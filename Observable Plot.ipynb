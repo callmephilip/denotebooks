{
 "cells": [
  {
   "cell_type": "code",
   "execution_count": 1,
   "id": "0cd1cd52-083f-4a58-9937-096e16098671",
   "metadata": {},
   "outputs": [
    {
     "data": {},
     "execution_count": 1,
     "metadata": {},
     "output_type": "execute_result"
    }
   ],
   "source": [
    "const alphabet = [{\"letter\":\"A\",\"frequency\":0.08167},{\"letter\":\"B\",\"frequency\":0.01492},{\"letter\":\"C\",\"frequency\":0.02782},{\"letter\":\"D\",\"frequency\":0.04253},{\"letter\":\"E\",\"frequency\":0.12702},{\"letter\":\"F\",\"frequency\":0.02228},{\"letter\":\"G\",\"frequency\":0.02015},{\"letter\":\"H\",\"frequency\":0.06094},{\"letter\":\"I\",\"frequency\":0.06966},{\"letter\":\"J\",\"frequency\":0.00153},{\"letter\":\"K\",\"frequency\":0.00772},{\"letter\":\"L\",\"frequency\":0.04025},{\"letter\":\"M\",\"frequency\":0.02406},{\"letter\":\"N\",\"frequency\":0.06749},{\"letter\":\"O\",\"frequency\":0.07507},{\"letter\":\"P\",\"frequency\":0.01929},{\"letter\":\"Q\",\"frequency\":0.00095},{\"letter\":\"R\",\"frequency\":0.05987},{\"letter\":\"S\",\"frequency\":0.06327},{\"letter\":\"T\",\"frequency\":0.09056},{\"letter\":\"U\",\"frequency\":0.02758},{\"letter\":\"V\",\"frequency\":0.00978},{\"letter\":\"W\",\"frequency\":0.0236},{\"letter\":\"X\",\"frequency\":0.0015},{\"letter\":\"Y\",\"frequency\":0.01974},{\"letter\":\"Z\",\"frequency\":0.00074}]"
   ]
  },
  {
   "cell_type": "code",
   "execution_count": 2,
   "id": "58118950-5d73-4636-bc47-e1b562a37285",
   "metadata": {},
   "outputs": [
    {
     "data": {
      "image/svg+xml": [
       "<svg viewBox=\"0 0 640 400\" height=\"400\" width=\"640\" text-anchor=\"middle\" font-size=\"10\" font-family=\"system-ui, sans-serif\" fill=\"currentColor\" class=\"plot-d6a7b5\"><style>.plot-d6a7b5 {\n",
       "  display: block;\n",
       "  background: white;\n",
       "  height: auto;\n",
       "  height: intrinsic;\n",
       "  max-width: 100%;\n",
       "}\n",
       ".plot-d6a7b5 text,\n",
       ".plot-d6a7b5 tspan {\n",
       "  white-space: pre;\n",
       "}</style><g stroke=\"currentColor\" fill=\"none\" aria-label=\"y-axis tick\"><path d=\"M0,0L-6,0\" transform=\"translate(40,370)\" /><path d=\"M0,0L-6,0\" transform=\"translate(40,342.4452842072115)\" /><path d=\"M0,0L-6,0\" transform=\"translate(40,314.8905684144229)\" /><path d=\"M0,0L-6,0\" transform=\"translate(40,287.3358526216344)\" /><path d=\"M0,0L-6,0\" transform=\"translate(40,259.78113682884583)\" /><path d=\"M0,0L-6,0\" transform=\"translate(40,232.22642103605727)\" /><path d=\"M0,0L-6,0\" transform=\"translate(40,204.6717052432688)\" /><path d=\"M0,0L-6,0\" transform=\"translate(40,177.1169894504802)\" /><path d=\"M0,0L-6,0\" transform=\"translate(40,149.5622736576917)\" /><path d=\"M0,0L-6,0\" transform=\"translate(40,122.00755786490315)\" /><path d=\"M0,0L-6,0\" transform=\"translate(40,94.4528420721146)\" /><path d=\"M0,0L-6,0\" transform=\"translate(40,66.89812627932609)\" /><path d=\"M0,0L-6,0\" transform=\"translate(40,39.34341048653754)\" /></g><g transform=\"translate(-9,0)\" font-variant=\"tabular-nums\" text-anchor=\"end\" aria-label=\"y-axis tick label\"><text transform=\"translate(40,370)\" y=\"0.32em\">0.00</text><text transform=\"translate(40,342.4452842072115)\" y=\"0.32em\">0.01</text><text transform=\"translate(40,314.8905684144229)\" y=\"0.32em\">0.02</text><text transform=\"translate(40,287.3358526216344)\" y=\"0.32em\">0.03</text><text transform=\"translate(40,259.78113682884583)\" y=\"0.32em\">0.04</text><text transform=\"translate(40,232.22642103605727)\" y=\"0.32em\">0.05</text><text transform=\"translate(40,204.6717052432688)\" y=\"0.32em\">0.06</text><text transform=\"translate(40,177.1169894504802)\" y=\"0.32em\">0.07</text><text transform=\"translate(40,149.5622736576917)\" y=\"0.32em\">0.08</text><text transform=\"translate(40,122.00755786490315)\" y=\"0.32em\">0.09</text><text transform=\"translate(40,94.4528420721146)\" y=\"0.32em\">0.10</text><text transform=\"translate(40,66.89812627932609)\" y=\"0.32em\">0.11</text><text transform=\"translate(40,39.34341048653754)\" y=\"0.32em\">0.12</text></g><g transform=\"translate(-37,-17)\" text-anchor=\"start\" aria-label=\"y-axis label\"><text transform=\"translate(40,20)\" y=\"0.71em\">↑ frequency</text></g><g transform=\"translate(10,0)\" stroke=\"currentColor\" fill=\"none\" aria-label=\"x-axis tick\"><path d=\"M0,0L0,6\" transform=\"translate(45,370)\" /><path d=\"M0,0L0,6\" transform=\"translate(67,370)\" /><path d=\"M0,0L0,6\" transform=\"translate(89,370)\" /><path d=\"M0,0L0,6\" transform=\"translate(111,370)\" /><path d=\"M0,0L0,6\" transform=\"translate(133,370)\" /><path d=\"M0,0L0,6\" transform=\"translate(155,370)\" /><path d=\"M0,0L0,6\" transform=\"translate(177,370)\" /><path d=\"M0,0L0,6\" transform=\"translate(199,370)\" /><path d=\"M0,0L0,6\" transform=\"translate(221,370)\" /><path d=\"M0,0L0,6\" transform=\"translate(243,370)\" /><path d=\"M0,0L0,6\" transform=\"translate(265,370)\" /><path d=\"M0,0L0,6\" transform=\"translate(287,370)\" /><path d=\"M0,0L0,6\" transform=\"translate(309,370)\" /><path d=\"M0,0L0,6\" transform=\"translate(331,370)\" /><path d=\"M0,0L0,6\" transform=\"translate(353,370)\" /><path d=\"M0,0L0,6\" transform=\"translate(375,370)\" /><path d=\"M0,0L0,6\" transform=\"translate(397,370)\" /><path d=\"M0,0L0,6\" transform=\"translate(419,370)\" /><path d=\"M0,0L0,6\" transform=\"translate(441,370)\" /><path d=\"M0,0L0,6\" transform=\"translate(463,370)\" /><path d=\"M0,0L0,6\" transform=\"translate(485,370)\" /><path d=\"M0,0L0,6\" transform=\"translate(507,370)\" /><path d=\"M0,0L0,6\" transform=\"translate(529,370)\" /><path d=\"M0,0L0,6\" transform=\"translate(551,370)\" /><path d=\"M0,0L0,6\" transform=\"translate(573,370)\" /><path d=\"M0,0L0,6\" transform=\"translate(595,370)\" /></g><g transform=\"translate(10,9)\" aria-label=\"x-axis tick label\"><text transform=\"translate(45,370)\" y=\"0.71em\">A</text><text transform=\"translate(67,370)\" y=\"0.71em\">B</text><text transform=\"translate(89,370)\" y=\"0.71em\">C</text><text transform=\"translate(111,370)\" y=\"0.71em\">D</text><text transform=\"translate(133,370)\" y=\"0.71em\">E</text><text transform=\"translate(155,370)\" y=\"0.71em\">F</text><text transform=\"translate(177,370)\" y=\"0.71em\">G</text><text transform=\"translate(199,370)\" y=\"0.71em\">H</text><text transform=\"translate(221,370)\" y=\"0.71em\">I</text><text transform=\"translate(243,370)\" y=\"0.71em\">J</text><text transform=\"translate(265,370)\" y=\"0.71em\">K</text><text transform=\"translate(287,370)\" y=\"0.71em\">L</text><text transform=\"translate(309,370)\" y=\"0.71em\">M</text><text transform=\"translate(331,370)\" y=\"0.71em\">N</text><text transform=\"translate(353,370)\" y=\"0.71em\">O</text><text transform=\"translate(375,370)\" y=\"0.71em\">P</text><text transform=\"translate(397,370)\" y=\"0.71em\">Q</text><text transform=\"translate(419,370)\" y=\"0.71em\">R</text><text transform=\"translate(441,370)\" y=\"0.71em\">S</text><text transform=\"translate(463,370)\" y=\"0.71em\">T</text><text transform=\"translate(485,370)\" y=\"0.71em\">U</text><text transform=\"translate(507,370)\" y=\"0.71em\">V</text><text transform=\"translate(529,370)\" y=\"0.71em\">W</text><text transform=\"translate(551,370)\" y=\"0.71em\">X</text><text transform=\"translate(573,370)\" y=\"0.71em\">Y</text><text transform=\"translate(595,370)\" y=\"0.71em\">Z</text></g><g transform=\"translate(0,27)\" aria-label=\"x-axis label\"><text transform=\"translate(330,370)\">letter</text></g><g aria-label=\"bar\"><rect height=\"225.039363879704\" y=\"144.960636120296\" width=\"20\" x=\"45\" /><rect height=\"41.11163596284052\" y=\"328.8883640371595\" width=\"20\" x=\"67\" /><rect height=\"76.65721933553766\" y=\"293.34278066446234\" width=\"20\" x=\"89\" /><rect height=\"117.19020626672963\" y=\"252.80979373327037\" width=\"20\" x=\"111\" /><rect height=\"350\" y=\"20\" width=\"20\" x=\"133\" /><rect height=\"61.39190678633281\" y=\"308.6080932136672\" width=\"20\" x=\"155\" /><rect height=\"55.52275232246893\" y=\"314.47724767753107\" width=\"20\" x=\"177\" /><rect height=\"167.91843804125332\" y=\"202.08156195874668\" width=\"20\" x=\"199\" /><rect height=\"191.94615021256496\" y=\"178.05384978743504\" width=\"20\" x=\"221\" /><rect height=\"4.215871516296602\" y=\"365.7841284837034\" width=\"20\" x=\"243\" /><rect height=\"21.272240592032745\" y=\"348.72775940796726\" width=\"20\" x=\"265\" /><rect height=\"110.90773106597385\" y=\"259.09226893402615\" width=\"20\" x=\"287\" /><rect height=\"66.2966461974492\" y=\"303.7033538025508\" width=\"20\" x=\"309\" /><rect height=\"185.96677688552984\" y=\"184.03322311447016\" width=\"20\" x=\"331\" /><rect height=\"206.85325145646357\" y=\"163.14674854353643\" width=\"20\" x=\"353\" /><rect height=\"53.153046764289115\" y=\"316.8469532357109\" width=\"20\" x=\"375\" /><rect height=\"2.617698000314931\" y=\"367.38230199968507\" width=\"20\" x=\"397\" /><rect height=\"164.97008345142496\" y=\"205.02991654857504\" width=\"20\" x=\"419\" /><rect height=\"174.3386868209731\" y=\"195.6613131790269\" width=\"20\" x=\"441\" /><rect height=\"249.53550621949302\" y=\"120.46449378050698\" width=\"20\" x=\"463\" /><rect height=\"75.99590615651084\" y=\"294.00409384348916\" width=\"20\" x=\"485\" /><rect height=\"26.94851204534723\" y=\"343.05148795465277\" width=\"20\" x=\"507\" /><rect height=\"65.02912927098095\" y=\"304.97087072901905\" width=\"20\" x=\"529\" /><rect height=\"4.133207368918306\" y=\"365.8667926310817\" width=\"20\" x=\"551\" /><rect height=\"54.39300897496463\" y=\"315.60699102503537\" width=\"20\" x=\"573\" /><rect height=\"2.03904896866635\" y=\"367.96095103133365\" width=\"20\" x=\"595\" /></g></svg>"
      ]
     },
     "execution_count": 2,
     "metadata": {},
     "output_type": "execute_result"
    }
   ],
   "source": [
    "import * as Plot from \"npm:@observablehq/plot\"\n",
    "\n",
    "import { display } from \"https://deno.land/x/display@/mod.ts\"\n",
    "\n",
    "import { DOMParser, SVGElement } from \"npm:linkedom\";\n",
    "const document = new DOMParser().parseFromString(\n",
    "  `<!DOCTYPE html><html lang=\"en\"></html>`,\n",
    "  \"text/html\",\n",
    ");\n",
    "\n",
    "display(\n",
    "    Plot.barY(alphabet, {x: \"letter\", y: \"frequency\"}).plot({document})\n",
    ")"
   ]
  }
 ],
 "metadata": {
  "kernelspec": {
   "display_name": "Deno",
   "language": "typescript",
   "name": "deno"
  },
  "language_info": {
   "file_extension": ".ts",
   "mimetype": "text/x.typescript",
   "name": "typescript",
   "nb_converter": "script",
   "pygments_lexer": "typescript",
   "version": "5.2.2"
  }
 },
 "nbformat": 4,
 "nbformat_minor": 5
}

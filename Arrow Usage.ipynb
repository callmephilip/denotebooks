{
 "cells": [
  {
   "cell_type": "code",
   "execution_count": 1,
   "id": "61424890-a300-439f-8083-91230ca8d036",
   "metadata": {
    "scrolled": true,
    "tags": []
   },
   "outputs": [],
   "source": [
    "import * as Arrow from \"npm:apache-arrow\";\n",
    "import * as d3 from \"npm:d3\";"
   ]
  },
  {
   "cell_type": "code",
   "execution_count": 2,
   "id": "2462b915-df65-4d16-bace-f2c08f07cb80",
   "metadata": {
    "tags": []
   },
   "outputs": [],
   "source": [
    "let data = await d3.tsv(\n",
    "  \"https://cdn.jsdelivr.net/npm/world-atlas@1/world/110m.tsv\"\n",
    ");\n"
   ]
  },
  {
   "cell_type": "code",
   "execution_count": 3,
   "id": "b9cc1911-f59d-446f-9cb9-8e230c5f234b",
   "metadata": {
    "tags": []
   },
   "outputs": [],
   "source": [
    "let nameField = new Arrow.Field(\"name\", new Arrow.Utf8());\n"
   ]
  },
  {
   "cell_type": "code",
   "execution_count": 4,
   "id": "6fd106c1-4050-45ec-8b79-07112a223f87",
   "metadata": {
    "tags": []
   },
   "outputs": [],
   "source": [
    "let popEstField = new Arrow.Field(\"pop_est\", new Arrow.Uint32());\n"
   ]
  },
  {
   "cell_type": "code",
   "execution_count": 5,
   "id": "2f074449-8e9b-42cd-a937-dae355b98c7b",
   "metadata": {
    "tags": []
   },
   "outputs": [],
   "source": [
    "let continentField = new Arrow.Field(\n",
    "  \"continent\",\n",
    "  new Arrow.Dictionary(new Arrow.Utf8(), new Arrow.Uint8())\n",
    ");\n"
   ]
  },
  {
   "cell_type": "code",
   "execution_count": 6,
   "id": "8ce1839e-3e97-462d-a865-d9a2c4ed03b6",
   "metadata": {
    "tags": []
   },
   "outputs": [],
   "source": [
    "let type = new Arrow.Struct([nameField, popEstField, continentField]);\n"
   ]
  },
  {
   "cell_type": "code",
   "execution_count": 7,
   "id": "c7b104db-a7d8-4836-bf3c-fe9ed3b060a8",
   "metadata": {
    "tags": []
   },
   "outputs": [],
   "source": [
    "let vector = Arrow.vectorFromArray(data, type);\n"
   ]
  },
  {
   "cell_type": "code",
   "execution_count": 8,
   "id": "3fd46aed-3ce8-45b4-b1be-fff455f15efb",
   "metadata": {
    "tags": []
   },
   "outputs": [
    {
     "data": {
      "text/plain": [
       "Vector [StructVector<Struct>] {\n",
       "  isValid: \u001b[36m[Function (anonymous)]\u001b[39m,\n",
       "  get: \u001b[36m[Function (anonymous)]\u001b[39m,\n",
       "  set: \u001b[36m[Function (anonymous)]\u001b[39m,\n",
       "  indexOf: \u001b[36m[Function (anonymous)]\u001b[39m,\n",
       "  _offsets: [ \u001b[33m0\u001b[39m, \u001b[33m177\u001b[39m ],\n",
       "  data: [\n",
       "    Data {\n",
       "      type: Struct { typeId: \u001b[33m13\u001b[39m, children: [ \u001b[36m[Field]\u001b[39m, \u001b[36m[Field]\u001b[39m, \u001b[36m[Field]\u001b[39m ] },\n",
       "      children: [\n",
       "        Data {\n",
       "          type: \u001b[36m[Utf8]\u001b[39m,\n",
       "          children: [],\n",
       "          dictionary: \u001b[90mundefined\u001b[39m,\n",
       "          offset: \u001b[33m0\u001b[39m,\n",
       "          length: \u001b[33m177\u001b[39m,\n",
       "          _nullCount: \u001b[33m0\u001b[39m,\n",
       "          stride: \u001b[33m1\u001b[39m,\n",
       "          valueOffsets: \u001b[36m[Int32Array]\u001b[39m,\n",
       "          values: \u001b[36m[Uint8Array]\u001b[39m,\n",
       "          nullBitmap: Uint8Array(0) []\n",
       "        },\n",
       "        Data {\n",
       "          type: \u001b[36m[Uint32 [Int]]\u001b[39m,\n",
       "          children: [],\n",
       "          dictionary: \u001b[90mundefined\u001b[39m,\n",
       "          offset: \u001b[33m0\u001b[39m,\n",
       "          length: \u001b[33m177\u001b[39m,\n",
       "          _nullCount: \u001b[33m0\u001b[39m,\n",
       "          stride: \u001b[33m1\u001b[39m,\n",
       "          values: \u001b[36m[Uint32Array]\u001b[39m,\n",
       "          nullBitmap: Uint8Array(0) []\n",
       "        },\n",
       "        Data {\n",
       "          type: \u001b[36m[Dictionary]\u001b[39m,\n",
       "          children: [],\n",
       "          dictionary: \u001b[36m[Vector [Utf8Vector<Utf8>]]\u001b[39m,\n",
       "          offset: \u001b[33m0\u001b[39m,\n",
       "          length: \u001b[33m177\u001b[39m,\n",
       "          _nullCount: \u001b[33m0\u001b[39m,\n",
       "          stride: \u001b[33m1\u001b[39m,\n",
       "          values: \u001b[36m[Uint8Array]\u001b[39m,\n",
       "          typeIds: \u001b[90mundefined\u001b[39m,\n",
       "          nullBitmap: Uint8Array(0) [],\n",
       "          valueOffsets: \u001b[90mundefined\u001b[39m\n",
       "        }\n",
       "      ],\n",
       "      dictionary: \u001b[90mundefined\u001b[39m,\n",
       "      offset: \u001b[33m0\u001b[39m,\n",
       "      length: \u001b[33m177\u001b[39m,\n",
       "      _nullCount: \u001b[33m0\u001b[39m,\n",
       "      stride: \u001b[33m1\u001b[39m,\n",
       "      nullBitmap: Uint8Array(0) []\n",
       "    }\n",
       "  ],\n",
       "  type: Struct {\n",
       "    typeId: \u001b[33m13\u001b[39m,\n",
       "    children: [\n",
       "      Field {\n",
       "        name: \u001b[32m\"name\"\u001b[39m,\n",
       "        type: Utf8 { typeId: \u001b[33m5\u001b[39m },\n",
       "        nullable: \u001b[33mfalse\u001b[39m,\n",
       "        metadata: Map(0) {}\n",
       "      },\n",
       "      Field {\n",
       "        name: \u001b[32m\"pop_est\"\u001b[39m,\n",
       "        type: Uint32 [Int] { typeId: \u001b[33m2\u001b[39m, isSigned: \u001b[33mfalse\u001b[39m, bitWidth: \u001b[33m32\u001b[39m },\n",
       "        nullable: \u001b[33mfalse\u001b[39m,\n",
       "        metadata: Map(0) {}\n",
       "      },\n",
       "      Field {\n",
       "        name: \u001b[32m\"continent\"\u001b[39m,\n",
       "        type: Dictionary {\n",
       "          typeId: \u001b[33m-1\u001b[39m,\n",
       "          indices: \u001b[36m[Uint8 [Int]]\u001b[39m,\n",
       "          dictionary: \u001b[36m[Utf8]\u001b[39m,\n",
       "          isOrdered: \u001b[33mfalse\u001b[39m,\n",
       "          id: \u001b[33m0\u001b[39m\n",
       "        },\n",
       "        nullable: \u001b[33mfalse\u001b[39m,\n",
       "        metadata: Map(0) {}\n",
       "      }\n",
       "    ]\n",
       "  },\n",
       "  stride: \u001b[33m1\u001b[39m,\n",
       "  numChildren: \u001b[33m3\u001b[39m,\n",
       "  length: \u001b[33m177\u001b[39m\n",
       "}"
      ]
     },
     "execution_count": 8,
     "metadata": {},
     "output_type": "execute_result"
    }
   ],
   "source": [
    "vector;\n"
   ]
  }
 ],
 "metadata": {
  "kernelspec": {
   "display_name": "Deno",
   "language": "typescript",
   "name": "deno"
  },
  "language_info": {
   "codemirror_mode": null,
   "file_extension": ".ts",
   "mimetype": "text/x.typescript",
   "name": "typescript",
   "nbconvert_exporter": "script",
   "pygments_lexer": "typescript",
   "version": "5.4.5"
  },
  "widgets": {
   "application/vnd.jupyter.widget-state+json": {
    "state": {},
    "version_major": 2,
    "version_minor": 0
   }
  }
 },
 "nbformat": 4,
 "nbformat_minor": 5
}

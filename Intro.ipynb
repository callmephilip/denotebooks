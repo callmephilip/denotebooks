{
 "cells": [
  {
   "cell_type": "markdown",
   "id": "e65d0aac-e98a-4066-8eee-85b5c9f442bd",
   "metadata": {},
   "source": [
    "For now, I'm running through everything in [the Deno Examples](https://examples.deno.land/). At some point it would be nice to create some narrative around this."
   ]
  },
  {
   "cell_type": "code",
   "execution_count": 1,
   "id": "bc40f7f6-3a79-4e4b-912c-44f748725cef",
   "metadata": {},
   "outputs": [
    {
     "data": {
      "text/plain": [
       "\u001b[90mundefined\u001b[39m"
      ]
     },
     "execution_count": 1,
     "metadata": {},
     "output_type": "execute_result"
    },
    {
     "name": "stdout",
     "output_type": "stream",
     "text": [
      "Welcome to Deno!\n"
     ]
    }
   ],
   "source": [
    "console.log(\"Welcome to Deno!\");"
   ]
  },
  {
   "cell_type": "code",
   "execution_count": 1,
   "id": "b284b60f-f238-4210-86f8-969a4a978c8f",
   "metadata": {},
   "outputs": [
    {
     "data": {
      "text/plain": [
       "\u001b[90mundefined\u001b[39m"
      ]
     },
     "execution_count": 1,
     "metadata": {},
     "output_type": "execute_result"
    },
    {
     "name": "stdout",
     "output_type": "stream",
     "text": [
      "\u001b[48;2;21;128;61m\u001b[38;2;0;0;0m Hello Deno \u001b[0m\n"
     ]
    }
   ],
   "source": [
    "console.log(\"%c Hello Deno \", \"background-color: #15803d; color: #000000\");"
   ]
  },
  {
   "cell_type": "markdown",
   "id": "5397e8b0-8ae5-4989-aee0-c3ff3ed51024",
   "metadata": {},
   "source": [
    "## Exports\n",
    "\n",
    "You can, pointlessly, export modules from a notebook. No complaints."
   ]
  },
  {
   "cell_type": "code",
   "execution_count": 1,
   "id": "17bdc71f-d597-4ac6-b2fa-a7687e91c406",
   "metadata": {},
   "outputs": [
    {
     "data": {
      "text/plain": [
       "\u001b[32m\"Cool 😎\"\u001b[39m"
      ]
     },
     "execution_count": 1,
     "metadata": {},
     "output_type": "execute_result"
    }
   ],
   "source": [
    "export * as path from \"https://deno.land/std@0.194.0/path/mod.ts\";\n",
    "\n",
    "\"Cool 😎\""
   ]
  },
  {
   "cell_type": "code",
   "execution_count": null,
   "id": "7de95151-b7e1-412c-82ac-eeee20382c85",
   "metadata": {},
   "outputs": [],
   "source": [
    "console.table([1,2,3])"
   ]
  },
  {
   "cell_type": "code",
   "execution_count": 5,
   "id": "e38ead58-1ceb-4ee6-90b7-87ee70e49e4d",
   "metadata": {},
   "outputs": [
    {
     "data": {
      "text/plain": [
       "\u001b[33m3\u001b[39m"
      ]
     },
     "execution_count": 5,
     "metadata": {},
     "output_type": "execute_result"
    }
   ],
   "source": [
    "3"
   ]
  }
 ],
 "metadata": {
  "kernelspec": {
   "display_name": "Deno",
   "language": "typescript",
   "name": "deno"
  },
  "language_info": {
   "file_extension": ".ts",
   "mimetype": "text/x.typescript",
   "name": "typescript",
   "pygments_lexer": "typescript",
   "version": "5.2.2"
  }
 },
 "nbformat": 4,
 "nbformat_minor": 5
}

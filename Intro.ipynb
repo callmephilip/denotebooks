{
 "cells": [
  {
   "cell_type": "markdown",
   "id": "e65d0aac-e98a-4066-8eee-85b5c9f442bd",
   "metadata": {},
   "source": [
    "For now, I'm running through everything in [the Deno Examples](https://examples.deno.land/). At some point it would be nice to create some narrative around this."
   ]
  },
  {
   "cell_type": "code",
   "execution_count": null,
   "id": "bc40f7f6-3a79-4e4b-912c-44f748725cef",
   "metadata": {},
   "outputs": [],
   "source": [
    "console.log(\"Welcome to Deno!\");"
   ]
  },
  {
   "cell_type": "code",
   "execution_count": null,
   "id": "b284b60f-f238-4210-86f8-969a4a978c8f",
   "metadata": {},
   "outputs": [],
   "source": [
    "console.log(\"%c Hello Deno \", \"background-color: #15803d; color: white\");"
   ]
  },
  {
   "cell_type": "markdown",
   "id": "5397e8b0-8ae5-4989-aee0-c3ff3ed51024",
   "metadata": {},
   "source": [
    "## Exports\n",
    "\n",
    "You can, pointlessly, export modules from a notebook. No complaints."
   ]
  },
  {
   "cell_type": "code",
   "execution_count": null,
   "id": "17bdc71f-d597-4ac6-b2fa-a7687e91c406",
   "metadata": {},
   "outputs": [],
   "source": [
    "export * as path from \"https://deno.land/std@0.194.0/path/mod.ts\";\n",
    "\n",
    "\"Cool 😎\""
   ]
  },
  {
   "cell_type": "code",
   "execution_count": null,
   "id": "7de95151-b7e1-412c-82ac-eeee20382c85",
   "metadata": {},
   "outputs": [],
   "source": [
    "console."
   ]
  }
 ],
 "metadata": {
  "kernelspec": {
   "display_name": "Deno",
   "language": "typescript",
   "name": "deno"
  },
  "language_info": {
   "file_extension": ".ts",
   "mimetype": "text/x.typescript",
   "name": "typescript",
   "pygments_lexer": "typescript",
   "version": "5.1.6"
  }
 },
 "nbformat": 4,
 "nbformat_minor": 5
}

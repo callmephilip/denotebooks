{
 "cells": [
  {
   "cell_type": "code",
   "execution_count": 5,
   "id": "9b7cc25f-a3a1-4d3b-ae48-d05446e19752",
   "metadata": {
    "tags": []
   },
   "outputs": [
    {
     "data": {},
     "execution_count": 5,
     "metadata": {},
     "output_type": "execute_result"
    }
   ],
   "source": [
    "import { display } from \"https://deno.land/x/display/mod.ts\""
   ]
  },
  {
   "cell_type": "code",
   "execution_count": 6,
   "id": "269f0c26-5856-43a6-8113-ef966ad9ee34",
   "metadata": {
    "tags": []
   },
   "outputs": [
    {
     "data": {},
     "execution_count": 6,
     "metadata": {},
     "output_type": "execute_result"
    }
   ],
   "source": [
    "var geo = {\n",
    "  \"type\": \"FeatureCollection\",\n",
    "  \"features\": [\n",
    "    {\n",
    "      \"type\": \"Feature\",\n",
    "      \"properties\": {},\n",
    "      \"geometry\": {\n",
    "        \"coordinates\": [\n",
    "          -122.02568110000087,\n",
    "          36.97291350961986\n",
    "        ],\n",
    "        \"type\": \"Point\"\n",
    "      }\n",
    "    },\n",
    "    {\n",
    "      \"type\": \"Feature\",\n",
    "      \"properties\": {},\n",
    "      \"geometry\": {\n",
    "        \"coordinates\": [\n",
    "          -122.02475203169882,\n",
    "          36.97469131200653\n",
    "        ],\n",
    "        \"type\": \"Point\"\n",
    "      }\n",
    "    },\n",
    "    {\n",
    "      \"type\": \"Feature\",\n",
    "      \"properties\": {},\n",
    "      \"geometry\": {\n",
    "        \"coordinates\": [\n",
    "          -122.04531981349203,\n",
    "          36.96158087785122\n",
    "        ],\n",
    "        \"type\": \"Point\"\n",
    "      }\n",
    "    },\n",
    "    {\n",
    "      \"type\": \"Feature\",\n",
    "      \"properties\": {},\n",
    "      \"geometry\": {\n",
    "        \"coordinates\": [\n",
    "          -122.04639846048826,\n",
    "          36.959057309781215\n",
    "        ],\n",
    "        \"type\": \"Point\"\n",
    "      }\n",
    "    }\n",
    "  ]\n",
    "}"
   ]
  },
  {
   "cell_type": "code",
   "execution_count": 7,
   "id": "5cbaaa80-143e-4688-8b37-1bb439f28394",
   "metadata": {
    "tags": []
   },
   "outputs": [
    {
     "data": {
      "application/geo+json": {
       "features": [
        {
         "geometry": {
          "coordinates": [
           -122.02568110000088,
           36.97291350961986
          ],
          "type": "Point"
         },
         "properties": {},
         "type": "Feature"
        },
        {
         "geometry": {
          "coordinates": [
           -122.02475203169882,
           36.97469131200653
          ],
          "type": "Point"
         },
         "properties": {},
         "type": "Feature"
        },
        {
         "geometry": {
          "coordinates": [
           -122.04531981349204,
           36.96158087785122
          ],
          "type": "Point"
         },
         "properties": {},
         "type": "Feature"
        },
        {
         "geometry": {
          "coordinates": [
           -122.04639846048826,
           36.959057309781215
          ],
          "type": "Point"
         },
         "properties": {},
         "type": "Feature"
        }
       ],
       "type": "FeatureCollection"
      }
     },
     "execution_count": 7,
     "metadata": {},
     "output_type": "execute_result"
    }
   ],
   "source": [
    "display({\n",
    "    \"application/geo+json\": geo\n",
    "})"
   ]
  },
  {
   "cell_type": "code",
   "execution_count": null,
   "id": "3d68587a-cd27-42f8-9452-21c6202e7bef",
   "metadata": {},
   "outputs": [],
   "source": []
  }
 ],
 "metadata": {
  "kernelspec": {
   "display_name": "Deno",
   "language": "typescript",
   "name": "deno"
  },
  "language_info": {
   "file_extension": ".ts",
   "mimetype": "text/x.typescript",
   "name": "typescript",
   "nb_converter": "script",
   "pygments_lexer": "typescript",
   "version": "5.2.2"
  }
 },
 "nbformat": 4,
 "nbformat_minor": 5
}

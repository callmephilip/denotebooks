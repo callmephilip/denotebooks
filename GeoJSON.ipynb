{
 "cells": [
  {
   "cell_type": "code",
   "execution_count": 1,
   "id": "9b7cc25f-a3a1-4d3b-ae48-d05446e19752",
   "metadata": {
    "tags": []
   },
   "outputs": [],
   "source": [
    "import { display } from \"https://deno.land/x/display@v1.0.1/mod.ts\""
   ]
  },
  {
   "cell_type": "code",
   "execution_count": 2,
   "id": "269f0c26-5856-43a6-8113-ef966ad9ee34",
   "metadata": {
    "tags": []
   },
   "outputs": [],
   "source": [
    "var geo = {\n",
    "  \"type\": \"FeatureCollection\",\n",
    "  \"features\": [\n",
    "    {\n",
    "      \"type\": \"Feature\",\n",
    "      \"properties\": {},\n",
    "      \"geometry\": {\n",
    "        \"coordinates\": [\n",
    "          -122.02568110000087,\n",
    "          36.97291350961986\n",
    "        ],\n",
    "        \"type\": \"Point\"\n",
    "      }\n",
    "    },\n",
    "    {\n",
    "      \"type\": \"Feature\",\n",
    "      \"properties\": {},\n",
    "      \"geometry\": {\n",
    "        \"coordinates\": [\n",
    "          -122.02475203169882,\n",
    "          36.97469131200653\n",
    "        ],\n",
    "        \"type\": \"Point\"\n",
    "      }\n",
    "    },\n",
    "    {\n",
    "      \"type\": \"Feature\",\n",
    "      \"properties\": {},\n",
    "      \"geometry\": {\n",
    "        \"coordinates\": [\n",
    "          -122.04531981349203,\n",
    "          36.96158087785122\n",
    "        ],\n",
    "        \"type\": \"Point\"\n",
    "      }\n",
    "    },\n",
    "    {\n",
    "      \"type\": \"Feature\",\n",
    "      \"properties\": {},\n",
    "      \"geometry\": {\n",
    "        \"coordinates\": [\n",
    "          -122.04639846048826,\n",
    "          36.959057309781215\n",
    "        ],\n",
    "        \"type\": \"Point\"\n",
    "      }\n",
    "    }\n",
    "  ]\n",
    "}"
   ]
  },
  {
   "cell_type": "code",
   "execution_count": 9,
   "id": "5cbaaa80-143e-4688-8b37-1bb439f28394",
   "metadata": {
    "tags": []
   },
   "outputs": [
    {
     "data": {
      "application/geo+json": {
       "features": [
        {
         "geometry": {
          "coordinates": [
           -122.02568110000087,
           36.97291350961986
          ],
          "type": "Point"
         },
         "properties": {},
         "type": "Feature"
        },
        {
         "geometry": {
          "coordinates": [
           -122.02475203169882,
           36.97469131200653
          ],
          "type": "Point"
         },
         "properties": {},
         "type": "Feature"
        },
        {
         "geometry": {
          "coordinates": [
           -122.04531981349203,
           36.96158087785122
          ],
          "type": "Point"
         },
         "properties": {},
         "type": "Feature"
        },
        {
         "geometry": {
          "coordinates": [
           -122.04639846048826,
           36.959057309781215
          ],
          "type": "Point"
         },
         "properties": {},
         "type": "Feature"
        }
       ],
       "type": "FeatureCollection"
      }
     },
     "metadata": {},
     "output_type": "display_data"
    }
   ],
   "source": [
    "await display({\n",
    "    \"application/geo+json\": geo\n",
    "}, {raw: true})"
   ]
  },
  {
   "cell_type": "code",
   "execution_count": null,
   "id": "3d68587a-cd27-42f8-9452-21c6202e7bef",
   "metadata": {},
   "outputs": [],
   "source": []
  }
 ],
 "metadata": {
  "kernelspec": {
   "display_name": "Deno",
   "language": "typescript",
   "name": "deno"
  },
  "language_info": {
   "file_extension": ".ts",
   "mimetype": "text/x.typescript",
   "name": "typescript",
   "nb_converter": "script",
   "pygments_lexer": "typescript",
   "version": "5.2.2"
  }
 },
 "nbformat": 4,
 "nbformat_minor": 5
}

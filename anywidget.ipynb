{
 "cells": [
  {
   "cell_type": "code",
   "execution_count": 2,
   "id": "440b5036-ce73-4683-9a59-593183ff39b0",
   "metadata": {},
   "outputs": [
    {
     "data": {
      "application/vnd.jupyter.widget-view+json": {
       "model_id": "37627e35-0552-494d-9e41-94e5abc9ffe1",
       "version_major": 2,
       "version_minor": 1
      }
     },
     "execution_count": 2,
     "metadata": {},
     "output_type": "execute_result"
    }
   ],
   "source": [
    "import { widget } from \"jsr:@anywidget/deno\";\n",
    "\n",
    "const model = widget({\n",
    "\tstate: { letters: \"abcd\" },\n",
    "\timports: `import * as d3 from \"https://esm.sh/d3\";`,\n",
    "\trender: ({ model, el }) => {\n",
    "\t\tconst width = 300;\n",
    "\t\tconst svg = d3.create(\"svg\")\n",
    "\t\t\t.attr(\"width\", width)\n",
    "\t\t\t.attr(\"height\", 33)\n",
    "\t\t\t.attr(\"viewBox\", `0 -20 ${width} 33`);\n",
    "\t\tmodel.on(\"change:letters\", () => {\n",
    "\t\t\tconst t = svg.transition().duration(200);\n",
    "\t\t\tsvg.selectAll(\"text\")\n",
    "\t\t\t\t.data(model.get(\"letters\"), (d) => d)\n",
    "\t\t\t\t.join(\n",
    "\t\t\t\t\t(enter) =>\n",
    "\t\t\t\t\t\tenter.append(\"text\")\n",
    "\t\t\t\t\t\t\t.attr(\"fill\", \"green\")\n",
    "\t\t\t\t\t\t\t.attr(\"x\", (d, i) => i * 16)\n",
    "\t\t\t\t\t\t\t.attr(\"y\", -30)\n",
    "\t\t\t\t\t\t\t.text((d) => d)\n",
    "\t\t\t\t\t\t\t.call((enter) =>\n",
    "\t\t\t\t\t\t\t\tenter.transition(t)\n",
    "\t\t\t\t\t\t\t\t\t.attr(\"y\", 0)\n",
    "\t\t\t\t\t\t\t),\n",
    "\t\t\t\t\t(update) =>\n",
    "\t\t\t\t\t\tupdate\n",
    "\t\t\t\t\t\t\t.attr(\"fill\", \"black\")\n",
    "\t\t\t\t\t\t\t.attr(\"y\", 0)\n",
    "\t\t\t\t\t\t\t.call((update) =>\n",
    "\t\t\t\t\t\ts\t\tupdate.transition(t)\n",
    "\t\t\t\t\t\t\t\t\t.attr(\"x\", (d, i) => i * 16)\n",
    "\t\t\t\t\t\t\t),\n",
    "\t\t\t\t\t(exit) =>\n",
    "\t\t\t\t\t\texit\n",
    "\t\t\t\t\t\t\t.attr(\"fill\", \"brown\")\n",
    "\t\t\t\t\t\t\t.call((exit) =>\n",
    "\t\t\t\t\t\t\t\texit.transition(t)\n",
    "\t\t\t\t\t\t\t\t\t.attr(\"y\", 30)\n",
    "\t\t\t\t\t\t\t\t\t.remove()\n",
    "\t\t\t\t\t\t\t),\n",
    "\t\t\t\t);\n",
    "\t\t});\n",
    "\t\tel.appendChild(svg.node());s\n",
    "\t},\n",
    "});\n",
    "\n",
    "model;"
   ]
  },
  {
   "cell_type": "code",
   "execution_count": null,
   "id": "24da3af5-ffaa-4e75-b1ea-fba26b17c0b5",
   "metadata": {},
   "outputs": [],
   "source": [
    "let dict = await Deno.readTextFile(\"/usr/share/dict/words\");\n",
    "for (let word of dict.split(\"\\n\")) {\n",
    "\tmodel.set(\"letters\", word);\n",
    "\tawait new Promise((resolve) => setTimeout(resolve, 500));\n",
    "}"
   ]
  }
 ],
 "metadata": {
  "kernelspec": {
   "display_name": "Deno",
   "language": "typescript",
   "name": "deno"
  },
  "language_info": {
   "codemirror_mode": null,
   "file_extension": ".ts",
   "mimetype": "text/x.typescript",
   "name": "typescript",
   "nbconvert_exporter": "script",
   "pygments_lexer": "typescript",
   "version": "5.4.5"
  },
  "widgets": {
   "application/vnd.jupyter.widget-state+json": {
    "state": {
     "37627e35-0552-494d-9e41-94e5abc9ffe1": {
      "model_module": "anywidget",
      "model_module_version": "0.9.11",
      "model_name": "AnyModel",
      "state": {
       "_esm": "import * as d3 from \"https://esm.sh/d3\";\nexport default { render: ({ model, el })=>{\n    const width = 300;\n    const svg = d3.create(\"svg\").attr(\"width\", width).attr(\"height\", 33).attr(\"viewBox\", `0 -20 ${width} 33`);\n    model.on(\"change:letters\", ()=>{\n      const t = svg.transition().duration(200);\n      svg.selectAll(\"text\").data(model.get(\"letters\"), (d)=>d).join((enter)=>enter.append(\"text\").attr(\"fill\", \"green\").attr(\"x\", (d, i)=>i * 16).attr(\"y\", -30).text((d)=>d).call((enter)=>enter.transition(t).attr(\"y\", 0)), (update)=>update.attr(\"fill\", \"black\").attr(\"y\", 0).call((update)=>update.transition(t).attr(\"x\", (d, i)=>i * 16)), (exit)=>exit.attr(\"fill\", \"brown\").call((exit)=>exit.transition(t).attr(\"y\", 30).remove()));\n    });\n    el.appendChild(svg.node());\n  } }",
       "_model_module": "anywidget",
       "_model_module_version": "0.9.11",
       "_model_name": "AnyModel",
       "_view_module": "anywidget",
       "_view_module_version": "0.9.11",
       "_view_name": "AnyView",
       "letters": "Abba"
      }
     },
     "fcea3f77-5011-4b60-81c4-057a2a47cb86": {
      "model_module": "anywidget",
      "model_module_version": "0.9.11",
      "model_name": "AnyModel",
      "state": {
       "_esm": "import * as d3 from \"https://esm.sh/d3\";\nexport default { render: ({ model, el })=>{\n    const width = 300;\n    const svg = d3.create(\"svg\").attr(\"width\", width).attr(\"height\", 33).attr(\"viewBox\", `0 -20 ${width} 33`);\n    model.on(\"change:letters\", ()=>{\n      const t = svg.transition().duration(200);\n      svg.selectAll(\"text\").data(model.get(\"letters\"), (d)=>d).join((enter)=>enter.append(\"text\").attr(\"fill\", \"green\").attr(\"x\", (d, i)=>i * 16).attr(\"y\", -30).text((d)=>d).call((enter)=>enter.transition(t).attr(\"y\", 0)), (update)=>update.attr(\"fill\", \"black\").attr(\"y\", 0).call((update)=>update.transition(t).attr(\"x\", (d, i)=>i * 16)), (exit)=>exit.attr(\"fill\", \"brown\").call((exit)=>exit.transition(t).attr(\"y\", 30).remove()));\n    });\n    el.appendChild(svg.node());\n  } }",
       "_model_module": "anywidget",
       "_model_module_version": "0.9.11",
       "_model_name": "AnyModel",
       "_view_module": "anywidget",
       "_view_module_version": "0.9.11",
       "_view_name": "AnyView",
       "letters": "abcd"
      }
     }
    },
    "version_major": 2,
    "version_minor": 0
   }
  }
 },
 "nbformat": 4,
 "nbformat_minor": 5
}

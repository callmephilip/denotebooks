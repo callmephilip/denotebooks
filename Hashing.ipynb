{
 "cells": [
  {
   "cell_type": "markdown",
   "id": "8833df6d-4615-4937-a43a-5dabef7a72d1",
   "metadata": {},
   "source": [
    "## Hashing\n",
    "\n",
    "Hashing data is a common operation that is facilitated\n",
    "through Deno's support for the Web Crypto API. In addition,\n",
    "the Deno standard library's implementation extends the standard API, allowing for\n",
    "more advanced uses."
   ]
  },
  {
   "cell_type": "markdown",
   "id": "409ba301-8b29-45bd-9dcc-cf40ca6bb94e",
   "metadata": {},
   "source": [
    "In our first example, we'll hash the contents of a string variable."
   ]
  },
  {
   "cell_type": "code",
   "execution_count": 1,
   "id": "2ca85e33-8271-41e6-ae7d-c13432587869",
   "metadata": {},
   "outputs": [
    {
     "data": {
      "text/plain": [
       "\u001b[32m\"The easiest, most secure JavaScript runtime.\"\u001b[39m"
      ]
     },
     "execution_count": 1,
     "metadata": {},
     "output_type": "execute_result"
    }
   ],
   "source": [
    "const message = \"The easiest, most secure JavaScript runtime.\";\n",
    "message"
   ]
  },
  {
   "cell_type": "markdown",
   "id": "e970d7af-9fc9-4f34-9a61-09319a145b2b",
   "metadata": {},
   "source": [
    "Before we can pass our message to the hashing function, we first need to encode it into a uint8 array."
   ]
  },
  {
   "cell_type": "code",
   "execution_count": 2,
   "id": "900e18bf-9474-423e-8efc-fd6e9d149644",
   "metadata": {},
   "outputs": [
    {
     "data": {
      "text/plain": [
       "Uint8Array(44) [\n",
       "   \u001b[33m84\u001b[39m, \u001b[33m104\u001b[39m, \u001b[33m101\u001b[39m,  \u001b[33m32\u001b[39m, \u001b[33m101\u001b[39m,  \u001b[33m97\u001b[39m, \u001b[33m115\u001b[39m, \u001b[33m105\u001b[39m, \u001b[33m101\u001b[39m,\n",
       "  \u001b[33m115\u001b[39m, \u001b[33m116\u001b[39m,  \u001b[33m44\u001b[39m,  \u001b[33m32\u001b[39m, \u001b[33m109\u001b[39m, \u001b[33m111\u001b[39m, \u001b[33m115\u001b[39m, \u001b[33m116\u001b[39m,  \u001b[33m32\u001b[39m,\n",
       "  \u001b[33m115\u001b[39m, \u001b[33m101\u001b[39m,  \u001b[33m99\u001b[39m, \u001b[33m117\u001b[39m, \u001b[33m114\u001b[39m, \u001b[33m101\u001b[39m,  \u001b[33m32\u001b[39m,  \u001b[33m74\u001b[39m,  \u001b[33m97\u001b[39m,\n",
       "  \u001b[33m118\u001b[39m,  \u001b[33m97\u001b[39m,  \u001b[33m83\u001b[39m,  \u001b[33m99\u001b[39m, \u001b[33m114\u001b[39m, \u001b[33m105\u001b[39m, \u001b[33m112\u001b[39m, \u001b[33m116\u001b[39m,  \u001b[33m32\u001b[39m,\n",
       "  \u001b[33m114\u001b[39m, \u001b[33m117\u001b[39m, \u001b[33m110\u001b[39m, \u001b[33m116\u001b[39m, \u001b[33m105\u001b[39m, \u001b[33m109\u001b[39m, \u001b[33m101\u001b[39m,  \u001b[33m46\u001b[39m\n",
       "]"
      ]
     },
     "execution_count": 2,
     "metadata": {},
     "output_type": "execute_result"
    }
   ],
   "source": [
    "const messageBuffer = new TextEncoder().encode(message);\n",
    "messageBuffer"
   ]
  },
  {
   "cell_type": "markdown",
   "id": "1483ec71-4060-4bc4-bccf-4f1b00d70043",
   "metadata": {},
   "source": [
    "Here, we use the built-in `crypto.subtle.digest` method to hash our original message.\n",
    "The hash is returned as an `ArrayBuffer`. To obtain a string\n",
    "we'll need to do a little more work."
   ]
  },
  {
   "cell_type": "code",
   "execution_count": 3,
   "id": "26ea0e8e-2adb-467c-9ebc-13e6c102691e",
   "metadata": {},
   "outputs": [
    {
     "data": {
      "text/plain": [
       "ArrayBuffer {\n",
       "  \u001b[36m[Uint8Contents]\u001b[39m: <1a c7 d6 a8 8e 74 e6 3d 1e 2c 28 70 fa 6e 80 8c 4e d6 b4 27 27 70 bf c2 2c a1 bb a7 e1 16 79 20>,\n",
       "  byteLength: \u001b[33m32\u001b[39m\n",
       "}"
      ]
     },
     "execution_count": 3,
     "metadata": {},
     "output_type": "execute_result"
    }
   ],
   "source": [
    "const hashBuffer = await crypto.subtle.digest(\"SHA-256\", messageBuffer);\n",
    "hashBuffer"
   ]
  },
  {
   "cell_type": "markdown",
   "id": "66b09373-7f99-4431-ae02-734e0d585faf",
   "metadata": {},
   "source": [
    "We can decode this into a string using the standard\n",
    "library's `toHashString` method."
   ]
  },
  {
   "cell_type": "code",
   "execution_count": 4,
   "id": "ab8d29de-6028-441f-b79f-bde12ec1770f",
   "metadata": {},
   "outputs": [
    {
     "data": {},
     "execution_count": 4,
     "metadata": {},
     "output_type": "execute_result"
    },
    {
     "name": "stdout",
     "output_type": "stream",
     "text": [
      "1ac7d6a88e74e63d1e2c2870fa6e808c4ed6b4272770bfc22ca1bba7e1167920\n"
     ]
    }
   ],
   "source": [
    "import { toHashString } from \"https://deno.land/std@0.194.0/crypto/to_hash_string.ts\";\n",
    "const hash = toHashString(hashBuffer);\n",
    "console.log(hash);"
   ]
  },
  {
   "cell_type": "markdown",
   "id": "f31f72f2-15c1-42f5-979b-200a8d5d4b60",
   "metadata": {},
   "source": [
    "For our second example, we'll hash the contents of a file.\n",
    "Hashing a file is a common operation and doing this\n",
    "without loading the whole file into memory is a typical\n",
    "requirement.\n",
    "\n",
    "The standard library has extensions to the Web\n",
    "Crypto API that are useful when doing things\n",
    "like hashing a file. These can be accessed through the\n",
    "`crypto` module, a drop-in replacement for the Web Crypto\n",
    "API that delegates to the native implementation when\n",
    "possible."
   ]
  },
  {
   "cell_type": "code",
   "execution_count": 5,
   "id": "e162d5b3-b5fd-41ed-a164-9a8e491bc402",
   "metadata": {},
   "outputs": [
    {
     "data": {},
     "execution_count": 5,
     "metadata": {},
     "output_type": "execute_result"
    }
   ],
   "source": [
    "import { crypto } from \"https://deno.land/std@0.194.0/crypto/mod.ts\";\n",
    "const file = await Deno.open(\"Hashing.ipynb\", { read: true });"
   ]
  },
  {
   "cell_type": "markdown",
   "id": "1c04a2f5-381e-4e86-8ad6-1239f477eafb",
   "metadata": {},
   "source": [
    "We obtain an async iterable using the readable property."
   ]
  },
  {
   "cell_type": "code",
   "execution_count": 6,
   "id": "859dd71e-69ac-478a-959b-44753ce3d71a",
   "metadata": {},
   "outputs": [
    {
     "data": {},
     "execution_count": 6,
     "metadata": {},
     "output_type": "execute_result"
    }
   ],
   "source": [
    "const readableStream = file.readable;"
   ]
  },
  {
   "cell_type": "markdown",
   "id": "a7091aeb-fd59-4a5e-a5d4-4c5b7ff5ab43",
   "metadata": {},
   "source": [
    "This time, when we call `crypto.subtle.digest`, we're using the\n",
    "imported version that allows us to operate on the\n",
    "async iterable."
   ]
  },
  {
   "cell_type": "code",
   "execution_count": 7,
   "id": "8f55f269-e109-4055-9db7-2c50b73710b0",
   "metadata": {},
   "outputs": [
    {
     "data": {},
     "execution_count": 7,
     "metadata": {},
     "output_type": "execute_result"
    }
   ],
   "source": [
    "const fileHashBuffer = await crypto.subtle.digest(\"SHA-256\", readableStream);"
   ]
  },
  {
   "cell_type": "markdown",
   "id": "fe96a152-5765-45bb-b87e-dedba027ac00",
   "metadata": {},
   "source": [
    "Finally, we obtain the hex result using toHashString like earlier."
   ]
  },
  {
   "cell_type": "code",
   "execution_count": 8,
   "id": "87de4520-e231-464b-93a3-f05709f04052",
   "metadata": {},
   "outputs": [
    {
     "data": {},
     "execution_count": 8,
     "metadata": {},
     "output_type": "execute_result"
    },
    {
     "name": "stdout",
     "output_type": "stream",
     "text": [
      "75caa7f9411204a881bcf0e64ccc42a231f8562781f3f88f31ef0a0b8660d3bd\n"
     ]
    }
   ],
   "source": [
    "const fileHash = toHashString(fileHashBuffer);\n",
    "console.log(fileHash);"
   ]
  }
 ],
 "metadata": {
  "kernelspec": {
   "display_name": "Deno",
   "language": "typescript",
   "name": "deno"
  },
  "language_info": {
   "file_extension": ".ts",
   "mimetype": "text/x.typescript",
   "name": "typescript",
   "nb_converter": "script",
   "pygments_lexer": "typescript",
   "version": "5.2.2"
  }
 },
 "nbformat": 4,
 "nbformat_minor": 5
}

{
 "cells": [
  {
   "cell_type": "code",
   "execution_count": 1,
   "id": "31caf825-ec36-4857-945f-687211e94cf9",
   "metadata": {},
   "outputs": [
    {
     "data": {},
     "execution_count": 1,
     "metadata": {},
     "output_type": "execute_result"
    }
   ],
   "source": [
    "import { display, $display } from \"https://deno.land/x/display/mod.ts\""
   ]
  },
  {
   "cell_type": "code",
   "execution_count": 2,
   "id": "a5c7b393-66d8-4d4b-94e8-6b5b42ed805d",
   "metadata": {},
   "outputs": [
    {
     "data": {
      "application/json": {
       "a": 2,
       "b": 3,
       "c": {
        "ok": true
       }
      },
      "text/plain": [
       "ok"
      ]
     },
     "execution_count": 2,
     "metadata": {},
     "output_type": "execute_result"
    }
   ],
   "source": [
    "display({ 'application/json': {'a': 2, 'b': 3, 'c': {'ok': true } }, 'text/plain': 'ok' })"
   ]
  }
 ],
 "metadata": {
  "kernelspec": {
   "display_name": "Deno",
   "language": "typescript",
   "name": "deno"
  },
  "language_info": {
   "file_extension": ".ts",
   "mimetype": "text/x.typescript",
   "name": "typescript",
   "nb_converter": "script",
   "pygments_lexer": "typescript",
   "version": "5.2.2"
  }
 },
 "nbformat": 4,
 "nbformat_minor": 5
}

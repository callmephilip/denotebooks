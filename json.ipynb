{
 "cells": [
  {
   "cell_type": "code",
   "execution_count": 4,
   "id": "31caf825-ec36-4857-945f-687211e94cf9",
   "metadata": {},
   "outputs": [],
   "source": [
    "import { display } from \"https://deno.land/x/display@v1.0.1/mod.ts\""
   ]
  },
  {
   "cell_type": "code",
   "execution_count": 5,
   "id": "a5c7b393-66d8-4d4b-94e8-6b5b42ed805d",
   "metadata": {},
   "outputs": [
    {
     "data": {
      "application/json": {
       "a": 2,
       "b": 3,
       "c": {
        "ok": true
       }
      },
      "text/plain": [
       "ok"
      ]
     },
     "metadata": {},
     "output_type": "display_data"
    }
   ],
   "source": [
    "await display(\n",
    "    {\n",
    "        'application/json': {'a': 2, 'b': 3, 'c': {'ok': true } },\n",
    "        'text/plain': 'ok'\n",
    "    },\n",
    "    { raw: true }\n",
    ")"
   ]
  }
 ],
 "metadata": {
  "kernelspec": {
   "display_name": "Deno",
   "language": "typescript",
   "name": "deno"
  },
  "language_info": {
   "file_extension": ".ts",
   "mimetype": "text/x.typescript",
   "name": "typescript",
   "nb_converter": "script",
   "pygments_lexer": "typescript",
   "version": "5.2.2"
  }
 },
 "nbformat": 4,
 "nbformat_minor": 5
}

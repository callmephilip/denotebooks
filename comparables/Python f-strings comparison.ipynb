{
 "cells": [
  {
   "cell_type": "code",
   "execution_count": 5,
   "id": "5cb34d71-fc6d-4b66-a103-b221120a795d",
   "metadata": {
    "tags": []
   },
   "outputs": [
    {
     "data": {
      "text/markdown": [
       "# Notebooks in Python via IPython ![IPython logo](https://github.com/ipython.png?size=32)\n",
       "\n",
       "* Python 3.11.1\n",
       "* IPython 8.14.0\n",
       "\n",
       "Interactive compute with Jupyter _built into IPython_!\n"
      ],
      "text/plain": [
       "<IPython.core.display.Markdown object>"
      ]
     },
     "metadata": {},
     "output_type": "display_data"
    }
   ],
   "source": [
    "from IPython.display import Markdown\n",
    "import IPython\n",
    "import sys\n",
    "\n",
    "display(Markdown(f\"\"\"# Notebooks in Python via IPython ![IPython logo](https://github.com/ipython.png?size=32)\n",
    "\n",
    "* Python {sys.version.split()[0]}\n",
    "* IPython {IPython.__version__}\n",
    "\n",
    "Interactive compute with Jupyter _built into IPython_!\n",
    "\"\"\"))\n"
   ]
  },
  {
   "cell_type": "code",
   "execution_count": null,
   "id": "6dedd570-5565-4fb7-9447-e640a90b70a3",
   "metadata": {},
   "outputs": [],
   "source": []
  }
 ],
 "metadata": {
  "kernelspec": {
   "display_name": "Python 3 (ipykernel)",
   "language": "python",
   "name": "python3"
  },
  "language_info": {
   "codemirror_mode": {
    "name": "ipython",
    "version": 3
   },
   "file_extension": ".py",
   "mimetype": "text/x-python",
   "name": "python",
   "nbconvert_exporter": "python",
   "pygments_lexer": "ipython3",
   "version": "3.11.1"
  }
 },
 "nbformat": 4,
 "nbformat_minor": 5
}

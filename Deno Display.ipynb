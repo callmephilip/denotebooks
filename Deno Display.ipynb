{
 "cells": [
  {
   "cell_type": "code",
   "execution_count": 1,
   "id": "86b8fb0e-fb95-4d8e-9dd2-80ba06b2db6c",
   "metadata": {},
   "outputs": [
    {
     "data": {},
     "execution_count": 1,
     "metadata": {},
     "output_type": "execute_result"
    }
   ],
   "source": [
    "import { display } from \"https://deno.land/x/display/mod.ts\""
   ]
  },
  {
   "cell_type": "code",
   "execution_count": 3,
   "id": "e5992349-c181-4639-a467-e8d206be2fe9",
   "metadata": {},
   "outputs": [
    {
     "data": {
      "text/markdown": [
       "No way! This _is_ **awesome**"
      ]
     },
     "execution_count": 3,
     "metadata": {},
     "output_type": "execute_result"
    }
   ],
   "source": [
    "display(\n",
    "  {\n",
    "    \"text/markdown\": \"No way! This _is_ **awesome**\"\n",
    "  },\n",
    "  { raw: true }\n",
    ")"
   ]
  },
  {
   "cell_type": "code",
   "execution_count": 9,
   "id": "1728022a-2d37-44ba-9db8-8b4c3d13862a",
   "metadata": {},
   "outputs": [
    {
     "data": {
      "image/png": "[encoded data removed]"
     },
     "execution_count": 9,
     "metadata": {},
     "output_type": "execute_result"
    }
   ],
   "source": [
    "import { createCanvas } from \"https://deno.land/x/canvas/mod.ts\";\n",
    "import { display } from \"https://deno.land/x/display/mod.ts\"\n",
    "\n",
    "const canvas = createCanvas(200, 200);\n",
    "const ctx = canvas.getContext(\"2d\");\n",
    "\n",
    "ctx.fillStyle = \"red\";\n",
    "ctx.fillRect(10, 10, 200 - 20, 200 - 20);\n",
    "\n",
    "display({\n",
    "    'image/png': canvas.toDataURL().split(',')[1]\n",
    "})"
   ]
  },
  {
   "cell_type": "code",
   "execution_count": 19,
   "id": "af8f2fec-3fe2-40a4-abac-6dbfb54d9b87",
   "metadata": {},
   "outputs": [
    {
     "data": {
      "image/png": "[encoded data removed]"
     },
     "execution_count": 19,
     "metadata": {},
     "output_type": "execute_result"
    }
   ],
   "source": [
    "import { createCanvas } from \"https://deno.land/x/canvas/mod.ts\";\n",
    "import { display } from \"https://deno.land/x/display/mod.ts\"\n",
    "\n",
    "const canvasSmiley = createCanvas(200, 200);\n",
    "const ctxSmiley = canvasSmiley.getContext(\"2d\");\n",
    "\n",
    "// Draw face circle\n",
    "ctxSmiley.fillStyle = \"yellow\";\n",
    "ctxSmiley.beginPath();\n",
    "ctxSmiley.arc(100, 100, 50, 0, Math.PI * 2);\n",
    "ctxSmiley.fill();\n",
    "\n",
    "// Draw eyes\n",
    "ctxSmiley.fillStyle = \"black\";\n",
    "ctxSmiley.beginPath();\n",
    "ctxSmiley.arc(80, 80, 5, 0, Math.PI * 2);\n",
    "ctxSmiley.arc(120, 80, 5, 0, Math.PI * 2);\n",
    "ctxSmiley.fill();\n",
    "\n",
    "// Draw mouth\n",
    "ctxSmiley.beginPath();\n",
    "ctxSmiley.arc(100, 100, 30, 0, Math.PI);\n",
    "ctxSmiley.stroke();\n",
    "\n",
    "display({\n",
    "  'image/png': canvasSmiley.toDataURL().split(',')[1]\n",
    "});"
   ]
  },
  {
   "cell_type": "code",
   "execution_count": 20,
   "id": "9b2a874a-f882-484b-a223-a41b795f1dc0",
   "metadata": {},
   "outputs": [
    {
     "data": {
      "image/png": "[encoded data removed]"
     },
     "execution_count": 20,
     "metadata": {},
     "output_type": "execute_result"
    }
   ],
   "source": [
    "import { createCanvas } from \"https://deno.land/x/canvas/mod.ts\";\n",
    "import { display } from \"https://deno.land/x/display/mod.ts\"\n",
    "\n",
    "const canvasPong = createCanvas(200, 200);\n",
    "const ctxPong = canvasPong.getContext(\"2d\");\n",
    "\n",
    "// Draw paddles\n",
    "ctxPong.fillStyle = \"blue\";\n",
    "ctxPong.fillRect(10, 50, 10, 50);\n",
    "ctxPong.fillRect(180, 100, 10, 50);\n",
    "\n",
    "// Draw ball\n",
    "ctxPong.beginPath();\n",
    "ctxPong.arc(100, 100, 5, 0, Math.PI * 2);\n",
    "ctxPong.fill();\n",
    "\n",
    "display({\n",
    "  'image/png': canvasPong.toDataURL().split(',')[1]\n",
    "});"
   ]
  },
  {
   "cell_type": "code",
   "execution_count": 21,
   "id": "209c37c0-4907-4220-b552-6f4bbe10e5db",
   "metadata": {},
   "outputs": [
    {
     "data": {
      "image/png": "[encoded data removed]"
     },
     "execution_count": 21,
     "metadata": {},
     "output_type": "execute_result"
    }
   ],
   "source": [
    "import { createCanvas } from \"https://deno.land/x/canvas/mod.ts\";\n",
    "import { display } from \"https://deno.land/x/display/mod.ts\"\n",
    "\n",
    "const canvasGraph = createCanvas(200, 200);\n",
    "const ctxGraph = canvasGraph.getContext(\"2d\");\n",
    "\n",
    "// Draw axes\n",
    "ctxGraph.strokeStyle = \"black\";\n",
    "ctxGraph.beginPath();\n",
    "ctxGraph.moveTo(10, 10);\n",
    "ctxGraph.lineTo(10, 190);\n",
    "ctxGraph.lineTo(190, 190);\n",
    "ctxGraph.stroke();\n",
    "\n",
    "// Draw line graph\n",
    "ctxGraph.strokeStyle = \"blue\";\n",
    "ctxGraph.beginPath();\n",
    "ctxGraph.moveTo(10, 190);\n",
    "ctxGraph.lineTo(50, 150);\n",
    "ctxGraph.lineTo(100, 100);\n",
    "ctxGraph.lineTo(150, 50);\n",
    "ctxGraph.lineTo(190, 10);\n",
    "ctxGraph.stroke();\n",
    "\n",
    "display({\n",
    "  'image/png': canvasGraph.toDataURL().split(',')[1]\n",
    "});"
   ]
  },
  {
   "cell_type": "code",
   "execution_count": 22,
   "id": "e20b9945-d82e-40d0-ad29-f3b3815a990e",
   "metadata": {},
   "outputs": [
    {
     "data": {},
     "execution_count": 22,
     "metadata": {},
     "output_type": "execute_result"
    }
   ],
   "source": [
    "var path = `M677.568 80.5552C672.703 74.5812 668.13 68.7948 663.713 63.1952C643.182 37.1539 625.448 14.6646 597.926 1.10192C595.098 -0.29915 591.791 -0.36689 588.911 0.914417C568.031 10.128 516.457 34.8211 470.619 72.2744C467.697 68.7432 464.645 64.9932 461.645 61.316C447.082 43.436 437.781 32.2227 431.363 27.2894C429.697 26.0081 427.681 25.2477 425.593 25.1019C378.525 21.904 324.301 33.2216 303.181 38.2478C301.368 38.6748 299.686 39.5811 298.326 40.8623C287.405 51.154 279.488 62.9556 268.514 79.2743C263.915 86.1128 258.889 93.6076 252.821 102.248C233.685 80.2636 216.66 65.2316 199.889 55.4196H199.873C199.873 55.4196 199.858 55.4196 199.858 55.404C199.79 55.3623 199.722 55.3259 199.66 55.2842C199.566 55.2321 199.472 55.1904 199.379 55.1384C199.165 55.0186 198.941 54.8988 198.712 54.805C198.592 54.7529 198.472 54.7009 198.353 54.6436C198.113 54.5394 197.858 54.4561 197.618 54.3623C197.514 54.3206 197.389 54.2946 197.285 54.2581C197.019 54.18 196.754 54.1123 196.483 54.0602C196.379 54.0342 196.285 54.0186 196.176 53.9925C195.884 53.9404 195.587 53.8988 195.295 53.8727C195.228 53.8727 195.175 53.8467 195.108 53.8467C195.056 53.8467 195.014 53.8467 194.962 53.8311C194.92 53.8311 194.884 53.8311 194.842 53.8154C176.082 52.4561 153.296 54.3623 120.738 57.4405C118.139 57.6801 115.723 58.8676 113.952 60.7738C101.259 74.3618 88.9104 94.8152 79.4464 111.962C74.2486 108.399 69.4464 104.92 64.7531 101.509C50.2224 90.9462 36.4984 80.9781 14.9144 71.5874C10.9144 69.8426 6.23216 70.7229 3.14363 73.801C0.0394945 76.8792 -0.856372 81.5459 0.862428 85.5615L4.39363 93.8426C17.18 123.801 27.2736 147.457 49.0603 184.321C50.6748 187.056 53.4196 188.92 56.5395 189.425C59.154 189.853 61.8207 190.306 64.4979 190.774C82.1912 193.826 100.471 196.972 115.353 192.066C115.405 192.05 115.446 192.04 115.498 192.024C115.514 192.024 115.514 192.024 115.524 192.009C115.566 191.993 115.603 191.967 115.644 191.957C115.952 191.852 116.243 191.743 116.55 191.608C116.618 191.582 116.686 191.54 116.748 191.504C116.868 191.451 116.978 191.384 117.082 191.332C117.389 191.17 117.681 190.998 117.962 190.826C118.056 190.774 118.149 190.707 118.228 190.655C118.603 190.399 118.946 190.123 119.28 189.826L119.295 189.811C119.613 189.519 119.92 189.196 120.202 188.863C120.228 188.821 120.269 188.795 120.295 188.759C129.399 177.946 137.066 166.811 143.842 156.988C145.003 155.306 146.123 153.681 147.217 152.108C157.899 173.004 173.764 189.868 186.534 201.244C186.628 201.322 186.722 201.405 186.826 201.473C186.946 201.567 187.065 201.671 187.185 201.765C187.321 201.869 187.451 201.963 187.597 202.056C187.743 202.15 187.878 202.254 188.034 202.348C188.154 202.426 188.274 202.483 188.394 202.562C188.565 202.655 188.743 202.759 188.914 202.843C189.019 202.895 189.128 202.937 189.248 202.989C189.446 203.082 189.633 203.161 189.836 203.244C189.852 203.244 189.862 203.259 189.878 203.259C202.972 208.192 266.586 222.781 321.586 213.791C323.826 213.431 325.893 212.353 327.482 210.723C340.43 197.509 348.133 188.228 361.107 167.311C372.815 187.046 383.962 202.327 399.003 219.603C400.644 221.499 402.909 222.749 405.389 223.134C415.123 224.665 426.457 225.441 439.362 225.441C465.987 225.441 499.283 222.176 538.857 215.671C538.898 215.671 538.924 215.655 538.961 215.645C539.362 215.577 539.747 215.483 540.148 215.379C540.174 215.363 540.2 215.363 540.226 215.353C540.534 215.259 540.841 215.155 541.148 215.035C541.19 215.02 541.226 214.994 541.268 214.983C541.403 214.931 541.549 214.848 541.68 214.796C541.919 214.691 542.159 214.566 542.388 214.436C542.508 214.369 542.643 214.29 542.763 214.207C543.002 214.061 543.242 213.9 543.471 213.728C543.565 213.66 543.659 213.593 543.752 213.514C544.044 213.275 544.341 213.035 544.607 212.77C544.622 212.754 544.648 212.744 544.659 212.728C544.95 212.436 545.221 212.139 545.471 211.822C545.539 211.744 545.591 211.65 545.659 211.566C545.831 211.327 546.008 211.087 546.164 210.832C546.232 210.712 546.31 210.603 546.377 210.483C546.523 210.228 546.659 209.962 546.789 209.697C546.831 209.619 546.867 209.551 546.909 209.468C563.654 171.588 576.549 140.572 586.321 96.1608C612.638 102.895 642.159 100.775 670.425 97.8797C674.331 97.4786 677.69 94.9734 679.196 91.3484C680.659 87.7599 680.044 83.5984 677.565 80.5567L677.568 80.5552ZM567.928 79.7323C567.902 79.8521 567.876 79.9719 567.849 80.0917C567.823 80.1959 567.797 80.3053 567.771 80.4094C559.943 120.06 550.131 147.691 536.969 178.727C526.26 156.101 507.619 120.196 484.037 88.8627C517.141 61.7947 553.515 41.6334 577.995 29.5814C575.969 42.8262 572.594 62.2377 567.928 79.7323ZM64.8876 169.238C50.1796 143.972 41.1276 124.972 32.3822 105.008C39.1948 109.357 45.476 113.915 52.1849 118.795C59.3308 123.982 66.7062 129.342 75.4916 134.992C83.2937 147.565 91.0382 162.711 96.2102 173.284C87.5592 173.138 77.4236 171.388 68.0902 169.79C67.0173 169.597 65.95 169.425 64.8876 169.238ZM114.352 161.811C109.456 151.878 102.669 138.759 95.5649 126.947C104.06 111.253 115.445 91.5973 126.872 78.3319C146.164 76.5194 161.752 75.1965 174.82 74.8371C162.221 93.7438 143.7 120.821 141.325 124.29C136.512 130.061 131.523 137.29 126.257 144.941C122.58 150.28 118.633 156.025 114.352 161.811ZM161.701 132.28C168.93 121.707 187.154 94.9626 197.472 79.2533C210.617 88.5345 224.712 102.108 240.206 120.347C225.034 142.399 203.977 166.243 193.07 178.185C181.351 166.545 168.617 150.759 161.701 132.279V132.28ZM314.688 193.307C278.218 198.494 236.516 192.572 213.406 187.572C226.646 172.827 247.876 148.078 262.313 125.676C272.297 111.906 280.021 100.422 286.22 91.1815C296.006 76.6082 302.725 66.6082 310.954 58.3429C329.938 53.9574 369.424 46.0251 407.1 45.8898C398.511 64.7965 379.073 104.515 352.793 139.89C352.564 140.197 352.366 140.504 352.168 140.822C352.168 140.822 352.168 140.838 352.152 140.838C334.928 170.067 327.704 179.769 314.688 193.307ZM412.5 202.65C397.448 185.036 386.458 169.172 373.994 147.025C400.276 110.358 419.036 71.5197 427.208 53.2903C432.661 59.5195 439.312 67.6757 445.104 74.7957C450.572 81.5039 456.208 88.4357 461.088 94.0877C489.566 129.514 511.952 175.166 521.796 196.796C474.446 203.931 437.738 205.905 412.498 202.65L412.5 202.65ZM591.006 75.3583C595.355 56.921 598.324 38.3063 599.954 26.957C617.219 38.7018 630.673 55.769 646.954 76.4103C647.485 77.0926 648.022 77.7697 648.569 78.4519C628.433 79.9155 608.46 79.9313 591.006 75.3583Z`"
   ]
  },
  {
   "cell_type": "code",
   "execution_count": 25,
   "id": "40c4437c-261f-4e6a-803d-a3cb3ca78f55",
   "metadata": {},
   "outputs": [
    {
     "ename": "TypeError: Path2D is not a constructor\n    at <anonymous>:6:9",
     "evalue": "",
     "output_type": "error",
     "traceback": []
    }
   ],
   "source": [
    "import { createCanvas, Path2D } from \"https://deno.land/x/canvas/mod.ts\";\n",
    "import { display } from \"https://deno.land/x/display/mod.ts\"\n",
    "\n",
    "const canvas = createCanvas(200, 200);\n",
    "const ctx = canvas.getContext(\"2d\");\n",
    "\n",
    "let p = new Path2D(path);\n",
    "ctx.fill(p);"
   ]
  },
  {
   "cell_type": "code",
   "execution_count": null,
   "id": "a5cbbf4d-679b-4dfc-9972-afbecdc53fa5",
   "metadata": {},
   "outputs": [],
   "source": []
  }
 ],
 "metadata": {
  "kernelspec": {
   "display_name": "Deno",
   "language": "typescript",
   "name": "deno"
  },
  "language_info": {
   "file_extension": ".ts",
   "mimetype": "text/x.typescript",
   "name": "typescript",
   "nb_converter": "script",
   "pygments_lexer": "typescript",
   "version": "5.2.2"
  }
 },
 "nbformat": 4,
 "nbformat_minor": 5
}

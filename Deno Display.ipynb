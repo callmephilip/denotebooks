{
 "cells": [
  {
   "cell_type": "code",
   "execution_count": 1,
   "id": "86b8fb0e-fb95-4d8e-9dd2-80ba06b2db6c",
   "metadata": {},
   "outputs": [
    {
     "data": {},
     "execution_count": 1,
     "metadata": {},
     "output_type": "execute_result"
    }
   ],
   "source": [
    "import { display } from \"https://deno.land/x/display/mod.ts\""
   ]
  },
  {
   "cell_type": "code",
   "execution_count": 3,
   "id": "e5992349-c181-4639-a467-e8d206be2fe9",
   "metadata": {},
   "outputs": [
    {
     "data": {
      "text/markdown": [
       "No way! This _is_ **awesome**"
      ]
     },
     "execution_count": 3,
     "metadata": {},
     "output_type": "execute_result"
    }
   ],
   "source": [
    "display(\n",
    "  {\n",
    "    \"text/markdown\": \"No way! This _is_ **awesome**\"\n",
    "  },\n",
    "  { raw: true }\n",
    ")"
   ]
  },
  {
   "cell_type": "code",
   "execution_count": 9,
   "id": "1728022a-2d37-44ba-9db8-8b4c3d13862a",
   "metadata": {},
   "outputs": [
    {
     "data": {
      "image/png": "[encoded data removed]"
     },
     "execution_count": 9,
     "metadata": {},
     "output_type": "execute_result"
    }
   ],
   "source": [
    "import { createCanvas } from \"https://deno.land/x/canvas/mod.ts\";\n",
    "import { display } from \"https://deno.land/x/display/mod.ts\"\n",
    "\n",
    "const canvas = createCanvas(200, 200);\n",
    "const ctx = canvas.getContext(\"2d\");\n",
    "\n",
    "ctx.fillStyle = \"red\";\n",
    "ctx.fillRect(10, 10, 200 - 20, 200 - 20);\n",
    "\n",
    "display({\n",
    "    'image/png': canvas.toDataURL().split(',')[1]\n",
    "})"
   ]
  },
  {
   "cell_type": "code",
   "execution_count": 19,
   "id": "af8f2fec-3fe2-40a4-abac-6dbfb54d9b87",
   "metadata": {},
   "outputs": [
    {
     "data": {
      "image/png": "[encoded data removed]"
     },
     "execution_count": 19,
     "metadata": {},
     "output_type": "execute_result"
    }
   ],
   "source": [
    "import { createCanvas } from \"https://deno.land/x/canvas/mod.ts\";\n",
    "import { display } from \"https://deno.land/x/display/mod.ts\"\n",
    "\n",
    "const canvasSmiley = createCanvas(200, 200);\n",
    "const ctxSmiley = canvasSmiley.getContext(\"2d\");\n",
    "\n",
    "// Draw face circle\n",
    "ctxSmiley.fillStyle = \"yellow\";\n",
    "ctxSmiley.beginPath();\n",
    "ctxSmiley.arc(100, 100, 50, 0, Math.PI * 2);\n",
    "ctxSmiley.fill();\n",
    "\n",
    "// Draw eyes\n",
    "ctxSmiley.fillStyle = \"black\";\n",
    "ctxSmiley.beginPath();\n",
    "ctxSmiley.arc(80, 80, 5, 0, Math.PI * 2);\n",
    "ctxSmiley.arc(120, 80, 5, 0, Math.PI * 2);\n",
    "ctxSmiley.fill();\n",
    "\n",
    "// Draw mouth\n",
    "ctxSmiley.beginPath();\n",
    "ctxSmiley.arc(100, 100, 30, 0, Math.PI);\n",
    "ctxSmiley.stroke();\n",
    "\n",
    "display({\n",
    "  'image/png': canvasSmiley.toDataURL().split(',')[1]\n",
    "});"
   ]
  },
  {
   "cell_type": "code",
   "execution_count": 20,
   "id": "9b2a874a-f882-484b-a223-a41b795f1dc0",
   "metadata": {},
   "outputs": [
    {
     "data": {
      "image/png": "[encoded data removed]"
     },
     "execution_count": 20,
     "metadata": {},
     "output_type": "execute_result"
    }
   ],
   "source": [
    "import { createCanvas } from \"https://deno.land/x/canvas/mod.ts\";\n",
    "import { display } from \"https://deno.land/x/display/mod.ts\"\n",
    "\n",
    "const canvasPong = createCanvas(200, 200);\n",
    "const ctxPong = canvasPong.getContext(\"2d\");\n",
    "\n",
    "// Draw paddles\n",
    "ctxPong.fillStyle = \"blue\";\n",
    "ctxPong.fillRect(10, 50, 10, 50);\n",
    "ctxPong.fillRect(180, 100, 10, 50);\n",
    "\n",
    "// Draw ball\n",
    "ctxPong.beginPath();\n",
    "ctxPong.arc(100, 100, 5, 0, Math.PI * 2);\n",
    "ctxPong.fill();\n",
    "\n",
    "display({\n",
    "  'image/png': canvasPong.toDataURL().split(',')[1]\n",
    "});"
   ]
  },
  {
   "cell_type": "code",
   "execution_count": 21,
   "id": "209c37c0-4907-4220-b552-6f4bbe10e5db",
   "metadata": {},
   "outputs": [
    {
     "data": {
      "image/png": "[encoded data removed]"
     },
     "execution_count": 21,
     "metadata": {},
     "output_type": "execute_result"
    }
   ],
   "source": [
    "import { createCanvas } from \"https://deno.land/x/canvas/mod.ts\";\n",
    "import { display } from \"https://deno.land/x/display/mod.ts\"\n",
    "\n",
    "const canvasGraph = createCanvas(200, 200);\n",
    "const ctxGraph = canvasGraph.getContext(\"2d\");\n",
    "\n",
    "// Draw axes\n",
    "ctxGraph.strokeStyle = \"black\";\n",
    "ctxGraph.beginPath();\n",
    "ctxGraph.moveTo(10, 10);\n",
    "ctxGraph.lineTo(10, 190);\n",
    "ctxGraph.lineTo(190, 190);\n",
    "ctxGraph.stroke();\n",
    "\n",
    "// Draw line graph\n",
    "ctxGraph.strokeStyle = \"blue\";\n",
    "ctxGraph.beginPath();\n",
    "ctxGraph.moveTo(10, 190);\n",
    "ctxGraph.lineTo(50, 150);\n",
    "ctxGraph.lineTo(100, 100);\n",
    "ctxGraph.lineTo(150, 50);\n",
    "ctxGraph.lineTo(190, 10);\n",
    "ctxGraph.stroke();\n",
    "\n",
    "display({\n",
    "  'image/png': canvasGraph.toDataURL().split(',')[1]\n",
    "});"
   ]
  }
 ],
 "metadata": {
  "kernelspec": {
   "display_name": "Deno",
   "language": "typescript",
   "name": "deno"
  },
  "language_info": {
   "file_extension": ".ts",
   "mimetype": "text/x.typescript",
   "name": "typescript",
   "nb_converter": "script",
   "pygments_lexer": "typescript",
   "version": "5.2.2"
  }
 },
 "nbformat": 4,
 "nbformat_minor": 5
}

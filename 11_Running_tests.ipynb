{
 "cells": [
  {
   "cell_type": "markdown",
   "metadata": {},
   "source": [
    "# Running unit tests inside notebooks "
   ]
  },
  {
   "cell_type": "markdown",
   "metadata": {},
   "source": []
  },
  {
   "cell_type": "code",
   "execution_count": 1,
   "metadata": {},
   "outputs": [
    {
     "name": "stdout",
     "output_type": "stream",
     "text": [
      "passing test ... \u001b[0m\u001b[32mok\u001b[0m \u001b[0m\u001b[38;5;245m(0ms)\u001b[0m\n",
      "\n",
      "\u001b[0m\u001b[32mok\u001b[0m | 1 passed | 0 failed \u001b[0m\u001b[38;5;245m(0ms)\u001b[0m\n"
     ]
    }
   ],
   "source": [
    "import { assert } from \"jsr:@std/assert\";\n",
    "\n",
    "Deno.test(\"passing test\", () => {\n",
    "  assert(true);\n",
    "})"
   ]
  },
  {
   "cell_type": "code",
   "execution_count": 2,
   "metadata": {},
   "outputs": [
    {
     "name": "stdout",
     "output_type": "stream",
     "text": [
      "failing test ... \u001b[0m\u001b[31mFAILED\u001b[0m \u001b[0m\u001b[38;5;245m(2ms)\u001b[0m\n",
      "\n",
      "\u001b[0m\u001b[1m\u001b[37m\u001b[41m ERRORS \u001b[0m\n",
      "\n",
      "failing test \u001b[0m\u001b[38;5;245m=> <anonymous>:2:6\u001b[0m\n",
      "\u001b[0m\u001b[1m\u001b[31merror\u001b[0m: AssertionError\n",
      "    throw new AssertionError(msg);\n",
      "\u001b[0m\u001b[31m          ^\u001b[0m\n",
      "    at \u001b[0m\u001b[1m\u001b[3massert\u001b[0m (\u001b[0m\u001b[36mhttps://jsr.io/@std/assert/1.0.9/assert.ts\u001b[0m:\u001b[0m\u001b[33m21\u001b[0m:\u001b[0m\u001b[33m11\u001b[0m)\n",
      "    at \u001b[0m\u001b[36m<anonymous>\u001b[0m:\u001b[0m\u001b[33m3\u001b[0m:\u001b[0m\u001b[33m3\u001b[0m\n",
      "\n",
      "\u001b[0m\u001b[1m\u001b[37m\u001b[41m FAILURES \u001b[0m\n",
      "\n",
      "failing test \u001b[0m\u001b[38;5;245m=> <anonymous>:2:6\u001b[0m\n",
      "\n",
      "\u001b[0m\u001b[31mFAILED\u001b[0m | 0 passed | 1 failed \u001b[0m\u001b[38;5;245m(2ms)\u001b[0m\n"
     ]
    }
   ],
   "source": [
    "import { assert } from \"jsr:@std/assert\";\n",
    "\n",
    "Deno.test(\"failing test\", () => {\n",
    "  assert(false);\n",
    "});"
   ]
  },
  {
   "cell_type": "code",
   "execution_count": null,
   "metadata": {},
   "outputs": [],
   "source": []
  }
 ],
 "metadata": {
  "kernelspec": {
   "display_name": "Deno",
   "language": "typescript",
   "name": "deno"
  },
  "language_info": {
   "codemirror_mode": "typescript",
   "file_extension": ".ts",
   "mimetype": "text/x.typescript",
   "name": "typescript",
   "nbconvert_exporter": "script",
   "pygments_lexer": "typescript",
   "version": "5.6.2"
  }
 },
 "nbformat": 4,
 "nbformat_minor": 2
}

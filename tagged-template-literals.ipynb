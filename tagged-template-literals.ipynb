{
 "cells": [
  {
   "cell_type": "code",
   "execution_count": 1,
   "id": "8d6bccee-613f-46ba-b7dd-de5bad4c6b49",
   "metadata": {
    "tags": []
   },
   "outputs": [
    {
     "data": {},
     "execution_count": 1,
     "metadata": {},
     "output_type": "execute_result"
    }
   ],
   "source": [
    "import { display } from \"https://deno.land/x/display/mod.ts\""
   ]
  },
  {
   "cell_type": "code",
   "execution_count": 2,
   "id": "5fe0d334-d509-4c9f-8107-c47ed5a898bc",
   "metadata": {
    "tags": []
   },
   "outputs": [
    {
     "data": {},
     "execution_count": 2,
     "metadata": {},
     "output_type": "execute_result"
    }
   ],
   "source": [
    "function md(strings: TemplateStringsArray, ...values: any[]) {\n",
    "    const str = strings.reduce((acc, string, i) => acc + string + (values[i] || \"\"), \"\");\n",
    "    return display({\"text/markdown\": str});\n",
    "}\n",
    "\n",
    "function html(strings: TemplateStringsArray, ...values: any[]) {\n",
    "  const str = strings.reduce((acc, string, i) => acc + string + (values[i] || \"\"), \"\");\n",
    "  return display({\"text/html\": str});\n",
    "}\n",
    "\n",
    "function plain(strings: TemplateStringsArray, ...values: any[]) {\n",
    "  const str = strings.reduce((acc, string, i) => acc + string + (values[i] || \"\"), \"\");\n",
    "  return display({\"text/plain\": str});\n",
    "}"
   ]
  },
  {
   "cell_type": "code",
   "execution_count": 3,
   "id": "e94ac6ec-cfb3-49e5-9936-c03b8eec7077",
   "metadata": {
    "tags": []
   },
   "outputs": [
    {
     "data": {
      "text/markdown": [
       "# Signup Report\n",
       "\n",
       "This month had **30,342** signups!\n"
      ]
     },
     "execution_count": 3,
     "metadata": {},
     "output_type": "execute_result"
    }
   ],
   "source": [
    "let count = 30_342;\n",
    "\n",
    "let report = md`# Signup Report\n",
    "\n",
    "This month had **${count.toLocaleString()}** signups!\n",
    "`;\n",
    "\n",
    "report"
   ]
  },
  {
   "cell_type": "code",
   "execution_count": 4,
   "id": "14dc4526-3783-42c6-880f-408f3c43d337",
   "metadata": {
    "tags": []
   },
   "outputs": [
    {
     "data": {
      "text/html": [
       "<i>This</i> is cool."
      ]
     },
     "execution_count": 4,
     "metadata": {},
     "output_type": "execute_result"
    }
   ],
   "source": [
    "function choice<T>(array: T[]): T {\n",
    "  const index = Math.floor(Math.random() * array.length);\n",
    "  return array[index];\n",
    "}\n",
    "\n",
    "let adjective = choice([\"cool\", \"rad\", \"stupendous\", \"ok\"])\n",
    "\n",
    "html`<i>This</i> is ${adjective}.`"
   ]
  },
  {
   "cell_type": "code",
   "execution_count": 5,
   "id": "f3a09168-9a76-415a-ab76-715cd4e5dcc9",
   "metadata": {
    "tags": []
   },
   "outputs": [
    {
     "data": {
      "text/plain": [
       "Ok it's just text"
      ]
     },
     "execution_count": 5,
     "metadata": {},
     "output_type": "execute_result"
    }
   ],
   "source": [
    "plain`Ok it's just text`"
   ]
  }
 ],
 "metadata": {
  "kernelspec": {
   "display_name": "Deno",
   "language": "typescript",
   "name": "deno"
  },
  "language_info": {
   "file_extension": ".ts",
   "mimetype": "text/x.typescript",
   "name": "typescript",
   "nb_converter": "script",
   "pygments_lexer": "typescript",
   "version": "5.2.2"
  }
 },
 "nbformat": 4,
 "nbformat_minor": 5
}

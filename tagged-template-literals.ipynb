{
 "cells": [
  {
   "cell_type": "code",
   "execution_count": 1,
   "id": "8d6bccee-613f-46ba-b7dd-de5bad4c6b49",
   "metadata": {
    "tags": []
   },
   "outputs": [
    {
     "data": {},
     "execution_count": 1,
     "metadata": {},
     "output_type": "execute_result"
    }
   ],
   "source": [
    "import { display } from \"https://deno.land/x/display/mod.ts\""
   ]
  },
  {
   "cell_type": "code",
   "execution_count": 27,
   "id": "5fe0d334-d509-4c9f-8107-c47ed5a898bc",
   "metadata": {
    "tags": []
   },
   "outputs": [
    {
     "data": {},
     "execution_count": 27,
     "metadata": {},
     "output_type": "execute_result"
    }
   ],
   "source": [
    "import { display } from \"https://deno.land/x/display/mod.ts\"\n",
    "\n",
    "function build_formatter(mediatype: str) {\n",
    "    return (strings: TemplateStringsArray, ...values: any[]) => {\n",
    "        const str = strings.reduce((acc, string, i) => acc + string + (values[i] || \"\"), \"\");\n",
    "        return display({[mediatype]: str});\n",
    "    }\n",
    "}\n",
    "\n",
    "const md = build_formatter(\"text/markdown\")\n",
    "const html = build_formatter(\"text/html\")\n",
    "const plain = build_formatter(\"text/plain\")\n",
    "const js = build_formatter(\"application/javascript\")"
   ]
  },
  {
   "cell_type": "code",
   "execution_count": 28,
   "id": "bee30e22-aac4-4135-924d-2163094c875e",
   "metadata": {
    "tags": []
   },
   "outputs": [
    {
     "data": {},
     "execution_count": 28,
     "metadata": {},
     "output_type": "execute_result"
    }
   ],
   "source": [
    "function build_formatter(mediatype: string) {\n",
    "  return (strings: TemplateStringsArray, ...values: unknown[]) => {\n",
    "    const str = strings.reduce(\n",
    "      (acc, string, i) => acc + string + (values[i] || \"\"),\n",
    "      \"\",\n",
    "    );\n",
    "    return display({ [mediatype]: str });\n",
    "  };\n",
    "}\n",
    "\n",
    "export const md = build_formatter(\"text/markdown\");\n",
    "export const html = build_formatter(\"text/html\");\n",
    "export const plain = build_formatter(\"text/plain\");\n",
    "export const js = build_formatter(\"application/javascript\");"
   ]
  },
  {
   "cell_type": "code",
   "execution_count": 52,
   "id": "7ab7afe4-7ef0-4402-bfee-17f02199448d",
   "metadata": {
    "tags": []
   },
   "outputs": [
    {
     "data": {},
     "execution_count": 52,
     "metadata": {},
     "output_type": "execute_result"
    }
   ],
   "source": []
  },
  {
   "cell_type": "code",
   "execution_count": 53,
   "id": "4e352e39-e0cf-469f-a447-bfc2823f3fc4",
   "metadata": {
    "tags": []
   },
   "outputs": [
    {
     "data": {
      "text/markdown": [
       "# Notebooks in TypeScript via Deno ![Deno logo](https://github.com/denoland.png?size=32)\n",
       "\n",
       "* TypeScript 5.2.2\n",
       "* V8 11.8.172.3 \n",
       "* Deno 1.36.4 🔜 1.37.0\n",
       "\n",
       "Interactive compute with Jupyter _built into Deno_!\n"
      ]
     },
     "execution_count": 53,
     "metadata": {},
     "output_type": "execute_result"
    }
   ],
   "source": [
    "import { display } from \"https://deno.land/x/display@v0.0.5/mod.ts\"\n",
    "\n",
    "const md = (strings: TemplateStringsArray, ...values: unknown[]) => {\n",
    "    const markdown = strings.reduce(\n",
    "      (acc, string, i) => acc + string + (values[i] || \"\"),\n",
    "      \"\",\n",
    "    );\n",
    "    return display({ \"text/markdown\": markdown });\n",
    "};\n",
    "\n",
    "md`# Notebooks in TypeScript via Deno ![Deno logo](https://github.com/denoland.png?size=32)\n",
    "\n",
    "* TypeScript ${Deno.version.typescript}\n",
    "* V8 ${Deno.version.v8} \n",
    "* Deno ${Deno.version.deno} 🔜 1.37.0\n",
    "\n",
    "Interactive compute with Jupyter _built into Deno_!\n",
    "`"
   ]
  },
  {
   "cell_type": "code",
   "execution_count": null,
   "id": "9c54b0d9-2bc9-4ad8-9aa4-5166c6c12188",
   "metadata": {},
   "outputs": [],
   "source": []
  },
  {
   "cell_type": "code",
   "execution_count": 19,
   "id": "e94ac6ec-cfb3-49e5-9936-c03b8eec7077",
   "metadata": {
    "tags": []
   },
   "outputs": [
    {
     "data": {
      "text/markdown": [
       "# Signup Report\n",
       "\n",
       "This month had **30,342** signups!\n"
      ]
     },
     "execution_count": 19,
     "metadata": {},
     "output_type": "execute_result"
    }
   ],
   "source": [
    "let count = 30_342;\n",
    "\n",
    "md`# Signup Report\n",
    "\n",
    "This month had **${count.toLocaleString()}** signups!\n",
    "`"
   ]
  },
  {
   "cell_type": "code",
   "execution_count": 18,
   "id": "14dc4526-3783-42c6-880f-408f3c43d337",
   "metadata": {
    "tags": []
   },
   "outputs": [
    {
     "data": {
      "text/html": [
       "<i>This</i> is cool."
      ]
     },
     "execution_count": 18,
     "metadata": {},
     "output_type": "execute_result"
    }
   ],
   "source": [
    "function choice<T>(array: T[]): T {\n",
    "  const index = Math.floor(Math.random() * array.length);\n",
    "  return array[index];\n",
    "}\n",
    "\n",
    "let adjective = choice([\"cool\", \"rad\", \"stupendous\", \"ok\"])\n",
    "\n",
    "html`<i>This</i> is ${adjective}.`"
   ]
  },
  {
   "cell_type": "code",
   "execution_count": 11,
   "id": "f3a09168-9a76-415a-ab76-715cd4e5dcc9",
   "metadata": {
    "tags": []
   },
   "outputs": [
    {
     "data": {
      "text/plain": [
       "Ok it's just text"
      ]
     },
     "execution_count": 11,
     "metadata": {},
     "output_type": "execute_result"
    }
   ],
   "source": [
    "plain`Ok it's just text`"
   ]
  },
  {
   "cell_type": "code",
   "execution_count": 23,
   "id": "d779e86f-a2bd-4caf-8e62-68e4445b7e1f",
   "metadata": {
    "tags": []
   },
   "outputs": [
    {
     "data": {
      "text/plain": [
       "CommandResult { code: \u001b[33m0\u001b[39m }"
      ]
     },
     "execution_count": 23,
     "metadata": {},
     "output_type": "execute_result"
    }
   ],
   "source": [
    "import {$} from \"https://deno.land/x/dax/mod.ts\"\n",
    "\n",
    "await $`pwd`"
   ]
  },
  {
   "cell_type": "code",
   "execution_count": null,
   "id": "0994020f-547f-4b01-82e7-24b437584543",
   "metadata": {},
   "outputs": [],
   "source": []
  }
 ],
 "metadata": {
  "kernelspec": {
   "display_name": "Deno",
   "language": "typescript",
   "name": "deno"
  },
  "language_info": {
   "file_extension": ".ts",
   "mimetype": "text/x.typescript",
   "name": "typescript",
   "nb_converter": "script",
   "pygments_lexer": "typescript",
   "version": "5.2.2"
  }
 },
 "nbformat": 4,
 "nbformat_minor": 5
}

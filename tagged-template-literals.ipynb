{
 "cells": [
  {
   "cell_type": "code",
   "execution_count": 11,
   "id": "8d6bccee-613f-46ba-b7dd-de5bad4c6b49",
   "metadata": {
    "tags": []
   },
   "outputs": [
    {
     "data": {},
     "execution_count": 11,
     "metadata": {},
     "output_type": "execute_result"
    }
   ],
   "source": [
    "import { display, html, md, plain } from \"https://deno.land/x/display@v0.1.1/mod.ts\""
   ]
  },
  {
   "cell_type": "code",
   "execution_count": 6,
   "id": "4e352e39-e0cf-469f-a447-bfc2823f3fc4",
   "metadata": {
    "tags": []
   },
   "outputs": [
    {
     "data": {
      "text/markdown": [
       "# Notebooks in TypeScript via Deno ![Deno logo](https://github.com/denoland.png?size=32)\n",
       "\n",
       "* TypeScript 5.2.2\n",
       "* V8 11.8.172.3 \n",
       "* Deno 1.37.0 🔜 1.37.0\n",
       "\n",
       "Interactive compute with Jupyter _built into Deno_!\n"
      ]
     },
     "execution_count": 6,
     "metadata": {},
     "output_type": "execute_result"
    }
   ],
   "source": [
    "md`# Notebooks in TypeScript via Deno ![Deno logo](https://github.com/denoland.png?size=32)\n",
    "\n",
    "* TypeScript ${Deno.version.typescript}\n",
    "* V8 ${Deno.version.v8} \n",
    "* Deno ${Deno.version.deno} 🔜 1.37.0\n",
    "\n",
    "Interactive compute with Jupyter _built into Deno_!\n",
    "`"
   ]
  },
  {
   "cell_type": "code",
   "execution_count": 8,
   "id": "e94ac6ec-cfb3-49e5-9936-c03b8eec7077",
   "metadata": {
    "tags": []
   },
   "outputs": [
    {
     "data": {
      "text/markdown": [
       "# Signup Report\n",
       "\n",
       "This month had **61,290** signups!\n"
      ]
     },
     "execution_count": 8,
     "metadata": {},
     "output_type": "execute_result"
    }
   ],
   "source": [
    "let count = 61_290;\n",
    "\n",
    "md`# Signup Report\n",
    "\n",
    "This month had **${count.toLocaleString()}** signups!\n",
    "`"
   ]
  },
  {
   "cell_type": "code",
   "execution_count": 9,
   "id": "14dc4526-3783-42c6-880f-408f3c43d337",
   "metadata": {
    "tags": []
   },
   "outputs": [
    {
     "data": {
      "text/html": [
       "<i>This</i> is stupendous."
      ]
     },
     "execution_count": 9,
     "metadata": {},
     "output_type": "execute_result"
    }
   ],
   "source": [
    "function choice<T>(array: T[]): T {\n",
    "  const index = Math.floor(Math.random() * array.length);\n",
    "  return array[index];\n",
    "}\n",
    "\n",
    "let adjective = choice([\"cool\", \"rad\", \"stupendous\", \"ok\"])\n",
    "\n",
    "html`<i>This</i> is ${adjective}.`"
   ]
  },
  {
   "cell_type": "code",
   "execution_count": 12,
   "id": "f3a09168-9a76-415a-ab76-715cd4e5dcc9",
   "metadata": {
    "tags": []
   },
   "outputs": [
    {
     "data": {
      "text/plain": [
       "Ok it's just text"
      ]
     },
     "execution_count": 12,
     "metadata": {},
     "output_type": "execute_result"
    }
   ],
   "source": [
    "plain`Ok it's just text`"
   ]
  }
 ],
 "metadata": {
  "kernelspec": {
   "display_name": "Deno",
   "language": "typescript",
   "name": "deno"
  },
  "language_info": {
   "file_extension": ".ts",
   "mimetype": "text/x.typescript",
   "name": "typescript",
   "nb_converter": "script",
   "pygments_lexer": "typescript",
   "version": "5.2.2"
  }
 },
 "nbformat": 4,
 "nbformat_minor": 5
}

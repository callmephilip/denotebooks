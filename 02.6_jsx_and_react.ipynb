{
 "cells": [
  {
   "cell_type": "code",
   "execution_count": 1,
   "id": "50e3c952-bf60-47ad-af7d-c689d5ba3ebc",
   "metadata": {},
   "outputs": [],
   "source": [
    "import * as React from \"npm:react\";"
   ]
  },
  {
   "cell_type": "code",
   "execution_count": 2,
   "id": "a47e7742-51fe-401c-801d-8509232e4dbe",
   "metadata": {},
   "outputs": [
    {
     "data": {
      "text/plain": [
       "{\n",
       "  \u001b[32m\"$$typeof\"\u001b[39m: \u001b[32mSymbol(react.element)\u001b[39m,\n",
       "  type: \u001b[32m\"h1\"\u001b[39m,\n",
       "  key: \u001b[1mnull\u001b[22m,\n",
       "  ref: \u001b[1mnull\u001b[22m,\n",
       "  props: { children: \u001b[32m\"Hello!\"\u001b[39m },\n",
       "  _owner: \u001b[1mnull\u001b[22m,\n",
       "  _store: {}\n",
       "}"
      ]
     },
     "execution_count": 2,
     "metadata": {},
     "output_type": "execute_result"
    }
   ],
   "source": [
    "const el = React.createElement(\"h1\", {}, \"Hello!\");\n",
    "el"
   ]
  },
  {
   "cell_type": "code",
   "execution_count": 3,
   "id": "f149a279-028a-45f9-b174-4c77b3ee0b1b",
   "metadata": {},
   "outputs": [
    {
     "data": {
      "text/plain": [
       "{\n",
       "  \u001b[32m\"$$typeof\"\u001b[39m: \u001b[32mSymbol(react.element)\u001b[39m,\n",
       "  type: \u001b[32m\"h1\"\u001b[39m,\n",
       "  key: \u001b[1mnull\u001b[22m,\n",
       "  ref: \u001b[1mnull\u001b[22m,\n",
       "  props: { children: \u001b[32m\"Hello!\"\u001b[39m },\n",
       "  _owner: \u001b[1mnull\u001b[22m,\n",
       "  _store: {}\n",
       "}"
      ]
     },
     "execution_count": 3,
     "metadata": {},
     "output_type": "execute_result"
    }
   ],
   "source": [
    "<h1>Hello!</h1>"
   ]
  },
  {
   "cell_type": "code",
   "execution_count": 4,
   "id": "965d79af-6036-4757-b5f0-b70b76f24221",
   "metadata": {},
   "outputs": [
    {
     "data": {
      "text/plain": [
       "\u001b[32m\"<h1>Hello!</h1>\"\u001b[39m"
      ]
     },
     "execution_count": 4,
     "metadata": {},
     "output_type": "execute_result"
    }
   ],
   "source": [
    "import { renderToString } from 'npm:react-dom/server';\n",
    "\n",
    "renderToString(<h1>Hello!</h1>)"
   ]
  },
  {
   "cell_type": "code",
   "execution_count": 5,
   "id": "3f96478a-c48b-4b7a-a5ca-c69de1aa72be",
   "metadata": {
    "tags": []
   },
   "outputs": [
    {
     "data": {
      "text/html": [
       "<h1>Hello!</h1>"
      ]
     },
     "execution_count": 5,
     "metadata": {},
     "output_type": "execute_result"
    }
   ],
   "source": [
    "function renderToJupyter(el) {\n",
    "    return {\n",
    "        [Deno.jupyter.$display]: () => {\n",
    "            return {\n",
    "                \"text/html\": renderToString(el)\n",
    "            }\n",
    "        }\n",
    "    }\n",
    "}\n",
    "\n",
    "renderToJupyter(<h1>Hello!</h1>)"
   ]
  },
  {
   "cell_type": "code",
   "execution_count": 6,
   "id": "4154428f-545e-4b23-a6b0-5b5503be232e",
   "metadata": {},
   "outputs": [
    {
     "data": {
      "text/html": [
       "<div><h1>Greetings from React!</h1><p>We just did React in Deno → Jupyter → React in Browser</p></div>"
      ]
     },
     "execution_count": 6,
     "metadata": {},
     "output_type": "execute_result"
    }
   ],
   "source": [
    "renderToJupyter(\n",
    "    <div>\n",
    "        <h1 key=\"we-did-it\">Greetings from React!</h1>\n",
    "        <p>We just did React in Deno → Jupyter → React in Browser</p>\n",
    "    </div>\n",
    ");"
   ]
  },
  {
   "cell_type": "code",
   "execution_count": 7,
   "id": "a1804203-efc1-4054-8c89-97be747a37c9",
   "metadata": {},
   "outputs": [
    {
     "data": {
      "text/html": [
       "<div style=\"background-color:#286c34;color:white;padding:20px;border-radius:5px;box-shadow:0px 8px 16px 0px rgba(0,0,0,0.2)\"><h1 style=\"font-size:2em;margin-bottom:10px\">Greetings from React!</h1><p style=\"font-style:italic\">We just did React in Deno → Jupyter → React in Browser</p></div>"
      ]
     },
     "execution_count": 7,
     "metadata": {},
     "output_type": "execute_result"
    }
   ],
   "source": [
    "const flashyStyles = {\n",
    "  container: {\n",
    "    backgroundColor: \"#286c34\",\n",
    "    color: \"white\",\n",
    "    padding: \"20px\",\n",
    "    borderRadius: \"5px\",\n",
    "    boxShadow: \"0px 8px 16px 0px rgba(0,0,0,0.2)\",\n",
    "  },\n",
    "  header: {\n",
    "    fontSize: \"2em\",\n",
    "    marginBottom: \"10px\",\n",
    "  },\n",
    "  paragraph: {\n",
    "    fontStyle: \"italic\",\n",
    "  },\n",
    "};\n",
    "\n",
    "renderToJupyter(\n",
    "    <div style={flashyStyles.container}>\n",
    "        <h1 key=\"we-did-it\" style={flashyStyles.header}>Greetings from React!</h1>\n",
    "        <p style={flashyStyles.paragraph}>We just did React in Deno → Jupyter → React in Browser</p>\n",
    "    </div>\n",
    ");\n"
   ]
  }
 ],
 "metadata": {
  "kernelspec": {
   "display_name": "Deno",
   "language": "typescript",
   "name": "deno"
  },
  "language_info": {
   "codemirror_mode": null,
   "file_extension": ".ts",
   "mimetype": "text/x.typescript",
   "name": "typescript",
   "nbconvert_exporter": "script",
   "pygments_lexer": "typescript",
   "version": "5.4.5"
  },
  "widgets": {
   "application/vnd.jupyter.widget-state+json": {
    "state": {},
    "version_major": 2,
    "version_minor": 0
   }
  }
 },
 "nbformat": 4,
 "nbformat_minor": 5
}

{
 "cells": [
  {
   "cell_type": "code",
   "execution_count": 1,
   "id": "50e3c952-bf60-47ad-af7d-c689d5ba3ebc",
   "metadata": {},
   "outputs": [
    {
     "data": {},
     "execution_count": 1,
     "metadata": {},
     "output_type": "execute_result"
    }
   ],
   "source": [
    "import * as React from \"npm:react\"\n",
    "import { display } from \"https://deno.land/x/display@v0.0.5/mod.ts\""
   ]
  },
  {
   "cell_type": "code",
   "execution_count": 2,
   "id": "a47e7742-51fe-401c-801d-8509232e4dbe",
   "metadata": {},
   "outputs": [
    {
     "data": {},
     "execution_count": 2,
     "metadata": {},
     "output_type": "execute_result"
    }
   ],
   "source": [
    "const el = React.createElement('h1', {}, 'Hello!')"
   ]
  },
  {
   "cell_type": "code",
   "execution_count": 3,
   "id": "3f96478a-c48b-4b7a-a5ca-c69de1aa72be",
   "metadata": {
    "tags": []
   },
   "outputs": [
    {
     "data": {},
     "execution_count": 3,
     "metadata": {},
     "output_type": "execute_result"
    }
   ],
   "source": [
    "import * as React from \"npm:react\";\n",
    "import { display } from \"https://deno.land/x/display@v0.0.5/mod.ts\";\n",
    "\n",
    "function isReactElement(element: any): element is React.ReactElement {\n",
    "  return element && element.type && element.props;\n",
    "}\n",
    "\n",
    "function renderComponent(component: any): any {\n",
    "  if (React.isValidElement(component)) {\n",
    "    // Class components\n",
    "    if (typeof component.type === 'function' && component.type.prototype.isReactComponent) {\n",
    "      return renderComponent(new component.type(component.props).render());\n",
    "    }\n",
    "    // Functional components\n",
    "    if (typeof component.type === 'function') {\n",
    "      return renderComponent(component.type(component.props));\n",
    "    }\n",
    "    return renderElement(component);\n",
    "  }\n",
    "  return component; // primitive types\n",
    "}\n",
    "\n",
    "function renderElement(el: React.ReactElement) {\n",
    "  const { children, ...attributes } = el.props;\n",
    "  const tagName = el.type;\n",
    "\n",
    "  let renderedChildren;\n",
    "  if (Array.isArray(children)) {\n",
    "    renderedChildren = children.map(renderComponent);\n",
    "  } else if (isReactElement(children)) {\n",
    "    renderedChildren = renderComponent(children);\n",
    "  } else {\n",
    "    renderedChildren = children;\n",
    "  }\n",
    "\n",
    "  return {\n",
    "      tagName,\n",
    "      attributes,\n",
    "      children: renderedChildren\n",
    "    }\n",
    "}\n",
    "\n",
    "export function render(el: React.ReactElement) {\n",
    "    return display({\n",
    "      \"application/vdom.v1+json\": renderElement(el),\n",
    "      \"text/plain\": \"<vdom>\"\n",
    "    }, {raw: true})\n",
    "}"
   ]
  },
  {
   "cell_type": "code",
   "execution_count": 8,
   "id": "4154428f-545e-4b23-a6b0-5b5503be232e",
   "metadata": {},
   "outputs": [
    {
     "data": {
      "application/vdom.v1+json": {
       "attributes": {},
       "children": [
        {
         "attributes": {},
         "children": "Greetings from React!",
         "tagName": "h1"
        },
        {
         "attributes": {},
         "children": "We just did React in Deno → Jupyter → React in Browser",
         "tagName": "p"
        }
       ],
       "tagName": "div"
      },
      "text/plain": [
       "<vdom>"
      ]
     },
     "execution_count": 8,
     "metadata": {},
     "output_type": "execute_result"
    }
   ],
   "source": [
    "render(\n",
    "    React.createElement('div', {}, [\n",
    "            React.createElement('h1', { key: \"we-did-it\" }, 'Greetings from React!'),\n",
    "            React.createElement('p', {}, 'We just did React in Deno → Jupyter → React in Browser')\n",
    "        ]\n",
    "    )\n",
    ")"
   ]
  },
  {
   "cell_type": "code",
   "execution_count": 9,
   "id": "a1804203-efc1-4054-8c89-97be747a37c9",
   "metadata": {},
   "outputs": [
    {
     "data": {
      "application/vdom.v1+json": {
       "attributes": {
        "style": {
         "backgroundColor": "#286c34",
         "borderRadius": "5px",
         "boxShadow": "0px 8px 16px 0px rgba(0,0,0,0.2)",
         "color": "white",
         "padding": "20px"
        }
       },
       "children": [
        {
         "attributes": {
          "style": {
           "fontSize": "2em",
           "marginBottom": "10px"
          }
         },
         "children": "Greetings from React!",
         "tagName": "h1"
        },
        {
         "attributes": {
          "style": {
           "fontStyle": "italic"
          }
         },
         "children": "We just did React in Deno → Jupyter → React in Browser",
         "tagName": "p"
        }
       ],
       "tagName": "div"
      },
      "text/plain": [
       "<vdom>"
      ]
     },
     "execution_count": 9,
     "metadata": {},
     "output_type": "execute_result"
    }
   ],
   "source": [
    "const flashyStyles = {\n",
    "  container: {\n",
    "    backgroundColor: \"#286c34\",\n",
    "    color: \"white\",\n",
    "    padding: \"20px\",\n",
    "    borderRadius: \"5px\",\n",
    "    boxShadow: \"0px 8px 16px 0px rgba(0,0,0,0.2)\"\n",
    "  },\n",
    "  header: {\n",
    "    fontSize: \"2em\",\n",
    "    marginBottom: \"10px\"\n",
    "  },\n",
    "  paragraph: {\n",
    "    fontStyle: \"italic\"\n",
    "  }\n",
    "};\n",
    "\n",
    "render(\n",
    "  React.createElement('div', { style: flashyStyles.container }, [\n",
    "    React.createElement('h1', { style: flashyStyles.header }, 'Greetings from React!'),\n",
    "    React.createElement('p', { style: flashyStyles.paragraph }, 'We just did React in Deno → Jupyter → React in Browser')\n",
    "  ])\n",
    ");\n"
   ]
  }
 ],
 "metadata": {
  "kernelspec": {
   "display_name": "Deno",
   "language": "typescript",
   "name": "deno"
  },
  "language_info": {
   "file_extension": ".ts",
   "mimetype": "text/x.typescript",
   "name": "typescript",
   "nb_converter": "script",
   "pygments_lexer": "typescript",
   "version": "5.2.2"
  }
 },
 "nbformat": 4,
 "nbformat_minor": 5
}

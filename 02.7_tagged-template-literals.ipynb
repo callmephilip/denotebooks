{
 "cells": [
  {
   "cell_type": "code",
   "execution_count": 1,
   "id": "8d6bccee-613f-46ba-b7dd-de5bad4c6b49",
   "metadata": {
    "tags": []
   },
   "outputs": [],
   "source": [
    "const { display, html, md } = Deno.jupyter;\n"
   ]
  },
  {
   "cell_type": "code",
   "execution_count": 2,
   "id": "4e352e39-e0cf-469f-a447-bfc2823f3fc4",
   "metadata": {
    "tags": []
   },
   "outputs": [
    {
     "data": {
      "text/markdown": [
       "# Notebooks in TypeScript via Deno ![Deno logo](https://github.com/denoland.png?size=32)\n",
       "\n",
       "* TypeScript 5.4.5\n",
       "* V8 12.4.254.13 \n",
       "* Deno 1.43.3\n",
       "\n",
       "Interactive compute with Jupyter _built into Deno_!\n"
      ]
     },
     "execution_count": 2,
     "metadata": {},
     "output_type": "execute_result"
    }
   ],
   "source": [
    "md`# Notebooks in TypeScript via Deno ![Deno logo](https://github.com/denoland.png?size=32)\n",
    "\n",
    "* TypeScript ${Deno.version.typescript}\n",
    "* V8 ${Deno.version.v8} \n",
    "* Deno ${Deno.version.deno}\n",
    "\n",
    "Interactive compute with Jupyter _built into Deno_!\n",
    "`;\n"
   ]
  },
  {
   "cell_type": "code",
   "execution_count": 3,
   "id": "e94ac6ec-cfb3-49e5-9936-c03b8eec7077",
   "metadata": {
    "tags": []
   },
   "outputs": [
    {
     "data": {
      "text/markdown": [
       "# Signup Report\n",
       "\n",
       "This month had **61,290** signups!\n"
      ]
     },
     "execution_count": 3,
     "metadata": {},
     "output_type": "execute_result"
    }
   ],
   "source": [
    "let count = 61_290;\n",
    "\n",
    "md`# Signup Report\n",
    "\n",
    "This month had **${count.toLocaleString()}** signups!\n",
    "`;\n"
   ]
  },
  {
   "cell_type": "code",
   "execution_count": 4,
   "id": "14dc4526-3783-42c6-880f-408f3c43d337",
   "metadata": {
    "tags": []
   },
   "outputs": [
    {
     "data": {
      "text/html": [
       "<i>This</i> is cool."
      ]
     },
     "execution_count": 4,
     "metadata": {},
     "output_type": "execute_result"
    }
   ],
   "source": [
    "function choice<T>(array: T[]): T {\n",
    "  const index = Math.floor(Math.random() * array.length);\n",
    "  return array[index];\n",
    "}\n",
    "\n",
    "let adjective = choice([\"cool\", \"rad\", \"stupendous\", \"ok\"]);\n",
    "\n",
    "html`<i>This</i> is ${adjective}.`;\n"
   ]
  }
 ],
 "metadata": {
  "kernelspec": {
   "display_name": "Deno",
   "language": "typescript",
   "name": "deno"
  },
  "language_info": {
   "codemirror_mode": null,
   "file_extension": ".ts",
   "mimetype": "text/x.typescript",
   "name": "typescript",
   "nbconvert_exporter": "script",
   "pygments_lexer": "typescript",
   "version": "5.4.5"
  }
 },
 "nbformat": 4,
 "nbformat_minor": 5
}
